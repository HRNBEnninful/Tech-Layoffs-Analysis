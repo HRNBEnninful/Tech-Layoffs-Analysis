{
 "cells": [
  {
   "cell_type": "code",
   "execution_count": 99,
   "id": "410d7a14",
   "metadata": {},
   "outputs": [
    {
     "name": "stdout",
     "output_type": "stream",
     "text": [
      "Defaulting to user installation because normal site-packages is not writeable\n",
      "Requirement already satisfied: pandas in c:\\users\\hrnbe\\appdata\\roaming\\python\\python313\\site-packages (2.3.0)\n",
      "Requirement already satisfied: numpy in c:\\python313\\lib\\site-packages (2.2.6)\n",
      "Requirement already satisfied: matplotlib in c:\\python313\\lib\\site-packages (3.10.3)\n",
      "Requirement already satisfied: seaborn in c:\\users\\hrnbe\\appdata\\roaming\\python\\python313\\site-packages (0.13.2)\n",
      "Requirement already satisfied: scikit-learn in c:\\users\\hrnbe\\appdata\\roaming\\python\\python313\\site-packages (1.7.2)\n",
      "Requirement already satisfied: python-dateutil>=2.8.2 in c:\\users\\hrnbe\\appdata\\roaming\\python\\python313\\site-packages (from pandas) (2.9.0.post0)\n",
      "Requirement already satisfied: pytz>=2020.1 in c:\\users\\hrnbe\\appdata\\roaming\\python\\python313\\site-packages (from pandas) (2025.2)\n",
      "Requirement already satisfied: tzdata>=2022.7 in c:\\users\\hrnbe\\appdata\\roaming\\python\\python313\\site-packages (from pandas) (2025.2)\n",
      "Requirement already satisfied: contourpy>=1.0.1 in c:\\python313\\lib\\site-packages (from matplotlib) (1.3.2)\n",
      "Requirement already satisfied: cycler>=0.10 in c:\\python313\\lib\\site-packages (from matplotlib) (0.12.1)\n",
      "Requirement already satisfied: fonttools>=4.22.0 in c:\\python313\\lib\\site-packages (from matplotlib) (4.58.1)\n",
      "Requirement already satisfied: kiwisolver>=1.3.1 in c:\\python313\\lib\\site-packages (from matplotlib) (1.4.8)\n",
      "Requirement already satisfied: packaging>=20.0 in c:\\users\\hrnbe\\appdata\\roaming\\python\\python313\\site-packages (from matplotlib) (25.0)\n",
      "Requirement already satisfied: pillow>=8 in c:\\python313\\lib\\site-packages (from matplotlib) (11.2.1)\n",
      "Requirement already satisfied: pyparsing>=2.3.1 in c:\\python313\\lib\\site-packages (from matplotlib) (3.2.3)\n",
      "Requirement already satisfied: scipy>=1.8.0 in c:\\users\\hrnbe\\appdata\\roaming\\python\\python313\\site-packages (from scikit-learn) (1.16.1)\n",
      "Requirement already satisfied: joblib>=1.2.0 in c:\\users\\hrnbe\\appdata\\roaming\\python\\python313\\site-packages (from scikit-learn) (1.5.2)\n",
      "Requirement already satisfied: threadpoolctl>=3.1.0 in c:\\users\\hrnbe\\appdata\\roaming\\python\\python313\\site-packages (from scikit-learn) (3.6.0)\n",
      "Requirement already satisfied: six>=1.5 in c:\\users\\hrnbe\\appdata\\roaming\\python\\python313\\site-packages (from python-dateutil>=2.8.2->pandas) (1.17.0)\n",
      "Note: you may need to restart the kernel to use updated packages.\n"
     ]
    },
    {
     "name": "stderr",
     "output_type": "stream",
     "text": [
      "\n",
      "[notice] A new release of pip is available: 25.1.1 -> 25.2\n",
      "[notice] To update, run: python.exe -m pip install --upgrade pip\n"
     ]
    },
    {
     "name": "stdout",
     "output_type": "stream",
     "text": [
      "Defaulting to user installation because normal site-packages is not writeable\n",
      "Requirement already satisfied: kagglehub[pandas-datasets] in c:\\users\\hrnbe\\appdata\\roaming\\python\\python313\\site-packages (0.3.13)\n",
      "Requirement already satisfied: packaging in c:\\users\\hrnbe\\appdata\\roaming\\python\\python313\\site-packages (from kagglehub[pandas-datasets]) (25.0)\n",
      "Requirement already satisfied: pyyaml in c:\\users\\hrnbe\\appdata\\roaming\\python\\python313\\site-packages (from kagglehub[pandas-datasets]) (6.0.2)\n",
      "Requirement already satisfied: requests in c:\\users\\hrnbe\\appdata\\roaming\\python\\python313\\site-packages (from kagglehub[pandas-datasets]) (2.32.4)\n",
      "Requirement already satisfied: tqdm in c:\\users\\hrnbe\\appdata\\roaming\\python\\python313\\site-packages (from kagglehub[pandas-datasets]) (4.67.1)\n",
      "Requirement already satisfied: pandas in c:\\users\\hrnbe\\appdata\\roaming\\python\\python313\\site-packages (from kagglehub[pandas-datasets]) (2.3.0)\n",
      "Requirement already satisfied: numpy>=1.26.0 in c:\\python313\\lib\\site-packages (from pandas->kagglehub[pandas-datasets]) (2.2.6)\n",
      "Requirement already satisfied: python-dateutil>=2.8.2 in c:\\users\\hrnbe\\appdata\\roaming\\python\\python313\\site-packages (from pandas->kagglehub[pandas-datasets]) (2.9.0.post0)\n",
      "Requirement already satisfied: pytz>=2020.1 in c:\\users\\hrnbe\\appdata\\roaming\\python\\python313\\site-packages (from pandas->kagglehub[pandas-datasets]) (2025.2)\n",
      "Requirement already satisfied: tzdata>=2022.7 in c:\\users\\hrnbe\\appdata\\roaming\\python\\python313\\site-packages (from pandas->kagglehub[pandas-datasets]) (2025.2)\n",
      "Requirement already satisfied: six>=1.5 in c:\\users\\hrnbe\\appdata\\roaming\\python\\python313\\site-packages (from python-dateutil>=2.8.2->pandas->kagglehub[pandas-datasets]) (1.17.0)\n",
      "Requirement already satisfied: charset_normalizer<4,>=2 in c:\\users\\hrnbe\\appdata\\roaming\\python\\python313\\site-packages (from requests->kagglehub[pandas-datasets]) (3.4.2)\n",
      "Requirement already satisfied: idna<4,>=2.5 in c:\\users\\hrnbe\\appdata\\roaming\\python\\python313\\site-packages (from requests->kagglehub[pandas-datasets]) (3.10)\n",
      "Requirement already satisfied: urllib3<3,>=1.21.1 in c:\\users\\hrnbe\\appdata\\roaming\\python\\python313\\site-packages (from requests->kagglehub[pandas-datasets]) (2.5.0)\n",
      "Requirement already satisfied: certifi>=2017.4.17 in c:\\users\\hrnbe\\appdata\\roaming\\python\\python313\\site-packages (from requests->kagglehub[pandas-datasets]) (2025.8.3)\n",
      "Requirement already satisfied: colorama in c:\\users\\hrnbe\\appdata\\roaming\\python\\python313\\site-packages (from tqdm->kagglehub[pandas-datasets]) (0.4.6)\n",
      "Note: you may need to restart the kernel to use updated packages.\n"
     ]
    },
    {
     "name": "stderr",
     "output_type": "stream",
     "text": [
      "\n",
      "[notice] A new release of pip is available: 25.1.1 -> 25.2\n",
      "[notice] To update, run: python.exe -m pip install --upgrade pip\n"
     ]
    },
    {
     "name": "stdout",
     "output_type": "stream",
     "text": [
      "Defaulting to user installation because normal site-packages is not writeable\n",
      "Note: you may need to restart the kernel to use updated packages.\n"
     ]
    },
    {
     "name": "stderr",
     "output_type": "stream",
     "text": [
      "ERROR: Ignored the following versions that require a different python version: 0.1.0 Requires-Python <3.11,>=3.7.7; 0.2.0 Requires-Python <3.11,>=3.7.7; 0.2.1 Requires-Python <3.11,>=3.7.7\n",
      "ERROR: Could not find a version that satisfies the requirement tqm (from versions: none)\n",
      "\n",
      "[notice] A new release of pip is available: 25.1.1 -> 25.2\n",
      "[notice] To update, run: python.exe -m pip install --upgrade pip\n",
      "ERROR: No matching distribution found for tqm\n"
     ]
    },
    {
     "name": "stdout",
     "output_type": "stream",
     "text": [
      "Defaulting to user installation because normal site-packages is not writeable\n",
      "Collecting pmdarima\n",
      "  Using cached pmdarima-2.0.4.tar.gz (630 kB)\n",
      "  Installing build dependencies: started\n",
      "  Installing build dependencies: finished with status 'done'\n",
      "  Getting requirements to build wheel: started\n",
      "  Getting requirements to build wheel: finished with status 'done'\n",
      "  Preparing metadata (pyproject.toml): started\n",
      "  Preparing metadata (pyproject.toml): finished with status 'done'\n",
      "Requirement already satisfied: joblib>=0.11 in c:\\users\\hrnbe\\appdata\\roaming\\python\\python313\\site-packages (from pmdarima) (1.5.2)\n",
      "Collecting Cython!=0.29.18,!=0.29.31,>=0.29 (from pmdarima)\n",
      "  Using cached cython-3.1.4-cp313-cp313-win_amd64.whl.metadata (5.1 kB)\n",
      "Requirement already satisfied: numpy>=1.21.2 in c:\\python313\\lib\\site-packages (from pmdarima) (2.2.6)\n",
      "Requirement already satisfied: pandas>=0.19 in c:\\users\\hrnbe\\appdata\\roaming\\python\\python313\\site-packages (from pmdarima) (2.3.0)\n",
      "Requirement already satisfied: scikit-learn>=0.22 in c:\\users\\hrnbe\\appdata\\roaming\\python\\python313\\site-packages (from pmdarima) (1.7.2)\n",
      "Requirement already satisfied: scipy>=1.3.2 in c:\\users\\hrnbe\\appdata\\roaming\\python\\python313\\site-packages (from pmdarima) (1.16.1)\n",
      "Requirement already satisfied: statsmodels>=0.13.2 in c:\\users\\hrnbe\\appdata\\roaming\\python\\python313\\site-packages (from pmdarima) (0.14.5)\n",
      "Requirement already satisfied: urllib3 in c:\\users\\hrnbe\\appdata\\roaming\\python\\python313\\site-packages (from pmdarima) (2.5.0)\n",
      "Requirement already satisfied: setuptools!=50.0.0,>=38.6.0 in c:\\users\\hrnbe\\appdata\\roaming\\python\\python313\\site-packages (from pmdarima) (80.9.0)\n",
      "Requirement already satisfied: packaging>=17.1 in c:\\users\\hrnbe\\appdata\\roaming\\python\\python313\\site-packages (from pmdarima) (25.0)\n",
      "Requirement already satisfied: python-dateutil>=2.8.2 in c:\\users\\hrnbe\\appdata\\roaming\\python\\python313\\site-packages (from pandas>=0.19->pmdarima) (2.9.0.post0)\n",
      "Requirement already satisfied: pytz>=2020.1 in c:\\users\\hrnbe\\appdata\\roaming\\python\\python313\\site-packages (from pandas>=0.19->pmdarima) (2025.2)\n",
      "Requirement already satisfied: tzdata>=2022.7 in c:\\users\\hrnbe\\appdata\\roaming\\python\\python313\\site-packages (from pandas>=0.19->pmdarima) (2025.2)\n",
      "Requirement already satisfied: six>=1.5 in c:\\users\\hrnbe\\appdata\\roaming\\python\\python313\\site-packages (from python-dateutil>=2.8.2->pandas>=0.19->pmdarima) (1.17.0)\n",
      "Requirement already satisfied: threadpoolctl>=3.1.0 in c:\\users\\hrnbe\\appdata\\roaming\\python\\python313\\site-packages (from scikit-learn>=0.22->pmdarima) (3.6.0)\n",
      "Requirement already satisfied: patsy>=0.5.6 in c:\\users\\hrnbe\\appdata\\roaming\\python\\python313\\site-packages (from statsmodels>=0.13.2->pmdarima) (1.0.1)\n",
      "Using cached cython-3.1.4-cp313-cp313-win_amd64.whl (2.7 MB)\n",
      "Building wheels for collected packages: pmdarima\n",
      "  Building wheel for pmdarima (pyproject.toml): started\n",
      "  Building wheel for pmdarima (pyproject.toml): finished with status 'error'\n",
      "Failed to build pmdarima\n",
      "Note: you may need to restart the kernel to use updated packages.\n"
     ]
    },
    {
     "name": "stderr",
     "output_type": "stream",
     "text": [
      "  error: subprocess-exited-with-error\n",
      "  \n",
      "  × Building wheel for pmdarima (pyproject.toml) did not run successfully.\n",
      "  │ exit code: 1\n",
      "  ╰─> [43 lines of output]\n",
      "      Partial import of pmdarima during the build process.\n",
      "      \n",
      "      Requirements: ['joblib>=0.11\\nCython>=0.29,!=0.29.18,!=0.29.31\\nnumpy>=1.21.2\\npandas>=0.19\\nscikit-learn>=0.22\\nscipy>=1.3.2\\nstatsmodels>=0.13.2\\nurllib3\\nsetuptools>=38.6.0,!=50.0.0\\npackaging>=17.1  # Bundled with setuptools, but want to be explicit\\n']\n",
      "      Adding extra setuptools args\n",
      "      Setting up with setuptools\n",
      "      Traceback (most recent call last):\n",
      "        File \u001b[35m\"c:\\Python313\\Lib\\site-packages\\pip\\_vendor\\pyproject_hooks\\_in_process\\_in_process.py\"\u001b[0m, line \u001b[35m389\u001b[0m, in \u001b[35m<module>\u001b[0m\n",
      "          \u001b[31mmain\u001b[0m\u001b[1;31m()\u001b[0m\n",
      "          \u001b[31m~~~~\u001b[0m\u001b[1;31m^^\u001b[0m\n",
      "        File \u001b[35m\"c:\\Python313\\Lib\\site-packages\\pip\\_vendor\\pyproject_hooks\\_in_process\\_in_process.py\"\u001b[0m, line \u001b[35m373\u001b[0m, in \u001b[35mmain\u001b[0m\n",
      "          json_out[\"return_val\"] = \u001b[31mhook\u001b[0m\u001b[1;31m(**hook_input[\"kwargs\"])\u001b[0m\n",
      "                                   \u001b[31m~~~~\u001b[0m\u001b[1;31m^^^^^^^^^^^^^^^^^^^^^^^^\u001b[0m\n",
      "        File \u001b[35m\"c:\\Python313\\Lib\\site-packages\\pip\\_vendor\\pyproject_hooks\\_in_process\\_in_process.py\"\u001b[0m, line \u001b[35m280\u001b[0m, in \u001b[35mbuild_wheel\u001b[0m\n",
      "          return \u001b[31m_build_backend().build_wheel\u001b[0m\u001b[1;31m(\u001b[0m\n",
      "                 \u001b[31m~~~~~~~~~~~~~~~~~~~~~~~~~~~~\u001b[0m\u001b[1;31m^\u001b[0m\n",
      "              \u001b[1;31mwheel_directory, config_settings, metadata_directory\u001b[0m\n",
      "              \u001b[1;31m^^^^^^^^^^^^^^^^^^^^^^^^^^^^^^^^^^^^^^^^^^^^^^^^^^^^\u001b[0m\n",
      "          \u001b[1;31m)\u001b[0m\n",
      "          \u001b[1;31m^\u001b[0m\n",
      "        File \u001b[35m\"C:\\Users\\hrnbe\\AppData\\Local\\Temp\\pip-build-env-kd_lfx4n\\overlay\\Lib\\site-packages\\setuptools\\build_meta.py\"\u001b[0m, line \u001b[35m435\u001b[0m, in \u001b[35mbuild_wheel\u001b[0m\n",
      "          return _build(['bdist_wheel', '--dist-info-dir', str(metadata_directory)])\n",
      "        File \u001b[35m\"C:\\Users\\hrnbe\\AppData\\Local\\Temp\\pip-build-env-kd_lfx4n\\overlay\\Lib\\site-packages\\setuptools\\build_meta.py\"\u001b[0m, line \u001b[35m423\u001b[0m, in \u001b[35m_build\u001b[0m\n",
      "          return \u001b[31mself._build_with_temp_dir\u001b[0m\u001b[1;31m(\u001b[0m\n",
      "                 \u001b[31m~~~~~~~~~~~~~~~~~~~~~~~~~\u001b[0m\u001b[1;31m^\u001b[0m\n",
      "              \u001b[1;31mcmd,\u001b[0m\n",
      "              \u001b[1;31m^^^^\u001b[0m\n",
      "          ...<3 lines>...\n",
      "              \u001b[1;31mself._arbitrary_args(config_settings),\u001b[0m\n",
      "              \u001b[1;31m^^^^^^^^^^^^^^^^^^^^^^^^^^^^^^^^^^^^^^\u001b[0m\n",
      "          \u001b[1;31m)\u001b[0m\n",
      "          \u001b[1;31m^\u001b[0m\n",
      "        File \u001b[35m\"C:\\Users\\hrnbe\\AppData\\Local\\Temp\\pip-build-env-kd_lfx4n\\overlay\\Lib\\site-packages\\setuptools\\build_meta.py\"\u001b[0m, line \u001b[35m404\u001b[0m, in \u001b[35m_build_with_temp_dir\u001b[0m\n",
      "          \u001b[31mself.run_setup\u001b[0m\u001b[1;31m()\u001b[0m\n",
      "          \u001b[31m~~~~~~~~~~~~~~\u001b[0m\u001b[1;31m^^\u001b[0m\n",
      "        File \u001b[35m\"C:\\Users\\hrnbe\\AppData\\Local\\Temp\\pip-build-env-kd_lfx4n\\overlay\\Lib\\site-packages\\setuptools\\build_meta.py\"\u001b[0m, line \u001b[35m512\u001b[0m, in \u001b[35mrun_setup\u001b[0m\n",
      "          \u001b[31msuper().run_setup\u001b[0m\u001b[1;31m(setup_script=setup_script)\u001b[0m\n",
      "          \u001b[31m~~~~~~~~~~~~~~~~~\u001b[0m\u001b[1;31m^^^^^^^^^^^^^^^^^^^^^^^^^^^\u001b[0m\n",
      "        File \u001b[35m\"C:\\Users\\hrnbe\\AppData\\Local\\Temp\\pip-build-env-kd_lfx4n\\overlay\\Lib\\site-packages\\setuptools\\build_meta.py\"\u001b[0m, line \u001b[35m317\u001b[0m, in \u001b[35mrun_setup\u001b[0m\n",
      "          \u001b[31mexec\u001b[0m\u001b[1;31m(code, locals())\u001b[0m\n",
      "          \u001b[31m~~~~\u001b[0m\u001b[1;31m^^^^^^^^^^^^^^^^\u001b[0m\n",
      "        File \u001b[35m\"<string>\"\u001b[0m, line \u001b[35m371\u001b[0m, in \u001b[35m<module>\u001b[0m\n",
      "        File \u001b[35m\"<string>\"\u001b[0m, line \u001b[35m330\u001b[0m, in \u001b[35mdo_setup\u001b[0m\n",
      "      \u001b[1;35mModuleNotFoundError\u001b[0m: \u001b[35mNo module named 'numpy'\u001b[0m\n",
      "      [end of output]\n",
      "  \n",
      "  note: This error originates from a subprocess, and is likely not a problem with pip.\n",
      "  ERROR: Failed building wheel for pmdarima\n",
      "\n",
      "[notice] A new release of pip is available: 25.1.1 -> 25.2\n",
      "[notice] To update, run: python.exe -m pip install --upgrade pip\n",
      "ERROR: Failed to build installable wheels for some pyproject.toml based projects (pmdarima)\n"
     ]
    },
    {
     "name": "stdout",
     "output_type": "stream",
     "text": [
      "Defaulting to user installation because normal site-packages is not writeable\n",
      "Requirement already satisfied: keras in c:\\users\\hrnbe\\appdata\\roaming\\python\\python313\\site-packages (3.11.3)\n",
      "Requirement already satisfied: absl-py in c:\\users\\hrnbe\\appdata\\roaming\\python\\python313\\site-packages (from keras) (2.3.1)\n",
      "Requirement already satisfied: numpy in c:\\python313\\lib\\site-packages (from keras) (2.2.6)\n",
      "Requirement already satisfied: rich in c:\\users\\hrnbe\\appdata\\roaming\\python\\python313\\site-packages (from keras) (14.1.0)\n",
      "Requirement already satisfied: namex in c:\\users\\hrnbe\\appdata\\roaming\\python\\python313\\site-packages (from keras) (0.1.0)\n",
      "Requirement already satisfied: h5py in c:\\users\\hrnbe\\appdata\\roaming\\python\\python313\\site-packages (from keras) (3.14.0)\n",
      "Requirement already satisfied: optree in c:\\users\\hrnbe\\appdata\\roaming\\python\\python313\\site-packages (from keras) (0.17.0)\n",
      "Requirement already satisfied: ml-dtypes in c:\\users\\hrnbe\\appdata\\roaming\\python\\python313\\site-packages (from keras) (0.5.3)\n",
      "Requirement already satisfied: packaging in c:\\users\\hrnbe\\appdata\\roaming\\python\\python313\\site-packages (from keras) (25.0)\n",
      "Requirement already satisfied: typing-extensions>=4.6.0 in c:\\users\\hrnbe\\appdata\\roaming\\python\\python313\\site-packages (from optree->keras) (4.14.1)\n",
      "Requirement already satisfied: markdown-it-py>=2.2.0 in c:\\users\\hrnbe\\appdata\\roaming\\python\\python313\\site-packages (from rich->keras) (4.0.0)\n",
      "Requirement already satisfied: pygments<3.0.0,>=2.13.0 in c:\\users\\hrnbe\\appdata\\roaming\\python\\python313\\site-packages (from rich->keras) (2.19.1)\n",
      "Requirement already satisfied: mdurl~=0.1 in c:\\users\\hrnbe\\appdata\\roaming\\python\\python313\\site-packages (from markdown-it-py>=2.2.0->rich->keras) (0.1.2)\n",
      "Note: you may need to restart the kernel to use updated packages.\n"
     ]
    },
    {
     "name": "stderr",
     "output_type": "stream",
     "text": [
      "\n",
      "[notice] A new release of pip is available: 25.1.1 -> 25.2\n",
      "[notice] To update, run: python.exe -m pip install --upgrade pip\n"
     ]
    },
    {
     "name": "stdout",
     "output_type": "stream",
     "text": [
      "Defaulting to user installation because normal site-packages is not writeable\n",
      "Requirement already satisfied: tensorflow in c:\\users\\hrnbe\\appdata\\roaming\\python\\python313\\site-packages (2.20.0)\n",
      "Requirement already satisfied: absl-py>=1.0.0 in c:\\users\\hrnbe\\appdata\\roaming\\python\\python313\\site-packages (from tensorflow) (2.3.1)\n",
      "Requirement already satisfied: astunparse>=1.6.0 in c:\\users\\hrnbe\\appdata\\roaming\\python\\python313\\site-packages (from tensorflow) (1.6.3)\n",
      "Requirement already satisfied: flatbuffers>=24.3.25 in c:\\users\\hrnbe\\appdata\\roaming\\python\\python313\\site-packages (from tensorflow) (25.2.10)\n",
      "Requirement already satisfied: gast!=0.5.0,!=0.5.1,!=0.5.2,>=0.2.1 in c:\\users\\hrnbe\\appdata\\roaming\\python\\python313\\site-packages (from tensorflow) (0.6.0)\n",
      "Requirement already satisfied: google_pasta>=0.1.1 in c:\\users\\hrnbe\\appdata\\roaming\\python\\python313\\site-packages (from tensorflow) (0.2.0)\n",
      "Requirement already satisfied: libclang>=13.0.0 in c:\\users\\hrnbe\\appdata\\roaming\\python\\python313\\site-packages (from tensorflow) (18.1.1)\n",
      "Requirement already satisfied: opt_einsum>=2.3.2 in c:\\users\\hrnbe\\appdata\\roaming\\python\\python313\\site-packages (from tensorflow) (3.4.0)\n",
      "Requirement already satisfied: packaging in c:\\users\\hrnbe\\appdata\\roaming\\python\\python313\\site-packages (from tensorflow) (25.0)\n",
      "Requirement already satisfied: protobuf>=5.28.0 in c:\\users\\hrnbe\\appdata\\roaming\\python\\python313\\site-packages (from tensorflow) (6.32.1)\n",
      "Requirement already satisfied: requests<3,>=2.21.0 in c:\\users\\hrnbe\\appdata\\roaming\\python\\python313\\site-packages (from tensorflow) (2.32.4)\n",
      "Requirement already satisfied: setuptools in c:\\users\\hrnbe\\appdata\\roaming\\python\\python313\\site-packages (from tensorflow) (80.9.0)\n",
      "Requirement already satisfied: six>=1.12.0 in c:\\users\\hrnbe\\appdata\\roaming\\python\\python313\\site-packages (from tensorflow) (1.17.0)\n",
      "Requirement already satisfied: termcolor>=1.1.0 in c:\\users\\hrnbe\\appdata\\roaming\\python\\python313\\site-packages (from tensorflow) (3.1.0)\n",
      "Requirement already satisfied: typing_extensions>=3.6.6 in c:\\users\\hrnbe\\appdata\\roaming\\python\\python313\\site-packages (from tensorflow) (4.14.1)\n",
      "Requirement already satisfied: wrapt>=1.11.0 in c:\\users\\hrnbe\\appdata\\roaming\\python\\python313\\site-packages (from tensorflow) (1.17.3)\n",
      "Requirement already satisfied: grpcio<2.0,>=1.24.3 in c:\\users\\hrnbe\\appdata\\roaming\\python\\python313\\site-packages (from tensorflow) (1.74.0)\n",
      "Requirement already satisfied: tensorboard~=2.20.0 in c:\\users\\hrnbe\\appdata\\roaming\\python\\python313\\site-packages (from tensorflow) (2.20.0)\n",
      "Requirement already satisfied: keras>=3.10.0 in c:\\users\\hrnbe\\appdata\\roaming\\python\\python313\\site-packages (from tensorflow) (3.11.3)\n",
      "Requirement already satisfied: numpy>=1.26.0 in c:\\python313\\lib\\site-packages (from tensorflow) (2.2.6)\n",
      "Requirement already satisfied: h5py>=3.11.0 in c:\\users\\hrnbe\\appdata\\roaming\\python\\python313\\site-packages (from tensorflow) (3.14.0)\n",
      "Requirement already satisfied: ml_dtypes<1.0.0,>=0.5.1 in c:\\users\\hrnbe\\appdata\\roaming\\python\\python313\\site-packages (from tensorflow) (0.5.3)\n",
      "Requirement already satisfied: charset_normalizer<4,>=2 in c:\\users\\hrnbe\\appdata\\roaming\\python\\python313\\site-packages (from requests<3,>=2.21.0->tensorflow) (3.4.2)\n",
      "Requirement already satisfied: idna<4,>=2.5 in c:\\users\\hrnbe\\appdata\\roaming\\python\\python313\\site-packages (from requests<3,>=2.21.0->tensorflow) (3.10)\n",
      "Requirement already satisfied: urllib3<3,>=1.21.1 in c:\\users\\hrnbe\\appdata\\roaming\\python\\python313\\site-packages (from requests<3,>=2.21.0->tensorflow) (2.5.0)\n",
      "Requirement already satisfied: certifi>=2017.4.17 in c:\\users\\hrnbe\\appdata\\roaming\\python\\python313\\site-packages (from requests<3,>=2.21.0->tensorflow) (2025.8.3)\n",
      "Requirement already satisfied: markdown>=2.6.8 in c:\\users\\hrnbe\\appdata\\roaming\\python\\python313\\site-packages (from tensorboard~=2.20.0->tensorflow) (3.9)\n",
      "Requirement already satisfied: pillow in c:\\python313\\lib\\site-packages (from tensorboard~=2.20.0->tensorflow) (11.2.1)\n",
      "Requirement already satisfied: tensorboard-data-server<0.8.0,>=0.7.0 in c:\\users\\hrnbe\\appdata\\roaming\\python\\python313\\site-packages (from tensorboard~=2.20.0->tensorflow) (0.7.2)\n",
      "Requirement already satisfied: werkzeug>=1.0.1 in c:\\users\\hrnbe\\appdata\\roaming\\python\\python313\\site-packages (from tensorboard~=2.20.0->tensorflow) (3.1.3)\n",
      "Requirement already satisfied: wheel<1.0,>=0.23.0 in c:\\users\\hrnbe\\appdata\\roaming\\python\\python313\\site-packages (from astunparse>=1.6.0->tensorflow) (0.45.1)\n",
      "Requirement already satisfied: rich in c:\\users\\hrnbe\\appdata\\roaming\\python\\python313\\site-packages (from keras>=3.10.0->tensorflow) (14.1.0)\n",
      "Requirement already satisfied: namex in c:\\users\\hrnbe\\appdata\\roaming\\python\\python313\\site-packages (from keras>=3.10.0->tensorflow) (0.1.0)\n",
      "Requirement already satisfied: optree in c:\\users\\hrnbe\\appdata\\roaming\\python\\python313\\site-packages (from keras>=3.10.0->tensorflow) (0.17.0)\n",
      "Requirement already satisfied: MarkupSafe>=2.1.1 in c:\\users\\hrnbe\\appdata\\roaming\\python\\python313\\site-packages (from werkzeug>=1.0.1->tensorboard~=2.20.0->tensorflow) (3.0.2)\n",
      "Requirement already satisfied: markdown-it-py>=2.2.0 in c:\\users\\hrnbe\\appdata\\roaming\\python\\python313\\site-packages (from rich->keras>=3.10.0->tensorflow) (4.0.0)\n",
      "Requirement already satisfied: pygments<3.0.0,>=2.13.0 in c:\\users\\hrnbe\\appdata\\roaming\\python\\python313\\site-packages (from rich->keras>=3.10.0->tensorflow) (2.19.1)\n",
      "Requirement already satisfied: mdurl~=0.1 in c:\\users\\hrnbe\\appdata\\roaming\\python\\python313\\site-packages (from markdown-it-py>=2.2.0->rich->keras>=3.10.0->tensorflow) (0.1.2)\n",
      "Note: you may need to restart the kernel to use updated packages.\n",
      "Defaulting to user installation because normal site-packages is not writeable\n",
      "Requirement already satisfied: xgboost in c:\\users\\hrnbe\\appdata\\roaming\\python\\python313\\site-packages (3.0.5)\n",
      "Requirement already satisfied: lightgbm in c:\\users\\hrnbe\\appdata\\roaming\\python\\python313\\site-packages (4.6.0)\n",
      "Requirement already satisfied: catboost in c:\\users\\hrnbe\\appdata\\roaming\\python\\python313\\site-packages (1.2.8)\n",
      "Requirement already satisfied: numpy in c:\\python313\\lib\\site-packages (from xgboost) (2.2.6)\n",
      "Requirement already satisfied: scipy in c:\\users\\hrnbe\\appdata\\roaming\\python\\python313\\site-packages (from xgboost) (1.16.1)\n",
      "Requirement already satisfied: graphviz in c:\\users\\hrnbe\\appdata\\roaming\\python\\python313\\site-packages (from catboost) (0.21)\n",
      "Requirement already satisfied: matplotlib in c:\\python313\\lib\\site-packages (from catboost) (3.10.3)\n",
      "Requirement already satisfied: pandas>=0.24 in c:\\users\\hrnbe\\appdata\\roaming\\python\\python313\\site-packages (from catboost) (2.3.0)\n",
      "Requirement already satisfied: plotly in c:\\users\\hrnbe\\appdata\\roaming\\python\\python313\\site-packages (from catboost) (6.1.2)\n",
      "Requirement already satisfied: six in c:\\users\\hrnbe\\appdata\\roaming\\python\\python313\\site-packages (from catboost) (1.17.0)\n",
      "Requirement already satisfied: python-dateutil>=2.8.2 in c:\\users\\hrnbe\\appdata\\roaming\\python\\python313\\site-packages (from pandas>=0.24->catboost) (2.9.0.post0)\n",
      "Requirement already satisfied: pytz>=2020.1 in c:\\users\\hrnbe\\appdata\\roaming\\python\\python313\\site-packages (from pandas>=0.24->catboost) (2025.2)\n",
      "Requirement already satisfied: tzdata>=2022.7 in c:\\users\\hrnbe\\appdata\\roaming\\python\\python313\\site-packages (from pandas>=0.24->catboost) (2025.2)\n",
      "Requirement already satisfied: contourpy>=1.0.1 in c:\\python313\\lib\\site-packages (from matplotlib->catboost) (1.3.2)\n",
      "Requirement already satisfied: cycler>=0.10 in c:\\python313\\lib\\site-packages (from matplotlib->catboost) (0.12.1)\n",
      "Requirement already satisfied: fonttools>=4.22.0 in c:\\python313\\lib\\site-packages (from matplotlib->catboost) (4.58.1)\n",
      "Requirement already satisfied: kiwisolver>=1.3.1 in c:\\python313\\lib\\site-packages (from matplotlib->catboost) (1.4.8)\n",
      "Requirement already satisfied: packaging>=20.0 in c:\\users\\hrnbe\\appdata\\roaming\\python\\python313\\site-packages (from matplotlib->catboost) (25.0)\n",
      "Requirement already satisfied: pillow>=8 in c:\\python313\\lib\\site-packages (from matplotlib->catboost) (11.2.1)\n",
      "Requirement already satisfied: pyparsing>=2.3.1 in c:\\python313\\lib\\site-packages (from matplotlib->catboost) (3.2.3)\n",
      "Requirement already satisfied: narwhals>=1.15.1 in c:\\users\\hrnbe\\appdata\\roaming\\python\\python313\\site-packages (from plotly->catboost) (1.44.0)\n",
      "Note: you may need to restart the kernel to use updated packages.\n"
     ]
    },
    {
     "name": "stderr",
     "output_type": "stream",
     "text": [
      "\n",
      "[notice] A new release of pip is available: 25.1.1 -> 25.2\n",
      "[notice] To update, run: python.exe -m pip install --upgrade pip\n"
     ]
    },
    {
     "name": "stdout",
     "output_type": "stream",
     "text": [
      "Defaulting to user installation because normal site-packages is not writeable\n",
      "Requirement already satisfied: chardet in c:\\users\\hrnbe\\appdata\\roaming\\python\\python313\\site-packages (5.2.0)\n",
      "Note: you may need to restart the kernel to use updated packages.\n"
     ]
    },
    {
     "name": "stderr",
     "output_type": "stream",
     "text": [
      "\n",
      "[notice] A new release of pip is available: 25.1.1 -> 25.2\n",
      "[notice] To update, run: python.exe -m pip install --upgrade pip\n"
     ]
    },
    {
     "name": "stdout",
     "output_type": "stream",
     "text": [
      "Defaulting to user installation because normal site-packages is not writeable\n",
      "Requirement already satisfied: pycountry in c:\\users\\hrnbe\\appdata\\roaming\\python\\python313\\site-packages (24.6.1)\n",
      "Note: you may need to restart the kernel to use updated packages.\n"
     ]
    },
    {
     "name": "stderr",
     "output_type": "stream",
     "text": [
      "\n",
      "[notice] A new release of pip is available: 25.1.1 -> 25.2\n",
      "[notice] To update, run: python.exe -m pip install --upgrade pip\n"
     ]
    },
    {
     "name": "stdout",
     "output_type": "stream",
     "text": [
      "Defaulting to user installation because normal site-packages is not writeable\n",
      "Requirement already satisfied: pycountry_convert in c:\\users\\hrnbe\\appdata\\roaming\\python\\python313\\site-packages (0.7.2)\n",
      "Requirement already satisfied: pprintpp>=0.3.0 in c:\\users\\hrnbe\\appdata\\roaming\\python\\python313\\site-packages (from pycountry_convert) (0.4.0)\n",
      "Requirement already satisfied: pycountry>=16.11.27.1 in c:\\users\\hrnbe\\appdata\\roaming\\python\\python313\\site-packages (from pycountry_convert) (24.6.1)\n",
      "Requirement already satisfied: pytest>=3.4.0 in c:\\users\\hrnbe\\appdata\\roaming\\python\\python313\\site-packages (from pycountry_convert) (8.4.2)\n",
      "Requirement already satisfied: pytest-mock>=1.6.3 in c:\\users\\hrnbe\\appdata\\roaming\\python\\python313\\site-packages (from pycountry_convert) (3.15.1)\n",
      "Requirement already satisfied: pytest-cov>=2.5.1 in c:\\users\\hrnbe\\appdata\\roaming\\python\\python313\\site-packages (from pycountry_convert) (7.0.0)\n",
      "Requirement already satisfied: repoze.lru>=0.7 in c:\\users\\hrnbe\\appdata\\roaming\\python\\python313\\site-packages (from pycountry_convert) (0.7)\n",
      "Requirement already satisfied: wheel>=0.30.0 in c:\\users\\hrnbe\\appdata\\roaming\\python\\python313\\site-packages (from pycountry_convert) (0.45.1)\n",
      "Requirement already satisfied: colorama>=0.4 in c:\\users\\hrnbe\\appdata\\roaming\\python\\python313\\site-packages (from pytest>=3.4.0->pycountry_convert) (0.4.6)\n",
      "Requirement already satisfied: iniconfig>=1 in c:\\users\\hrnbe\\appdata\\roaming\\python\\python313\\site-packages (from pytest>=3.4.0->pycountry_convert) (2.1.0)\n",
      "Requirement already satisfied: packaging>=20 in c:\\users\\hrnbe\\appdata\\roaming\\python\\python313\\site-packages (from pytest>=3.4.0->pycountry_convert) (25.0)\n",
      "Requirement already satisfied: pluggy<2,>=1.5 in c:\\users\\hrnbe\\appdata\\roaming\\python\\python313\\site-packages (from pytest>=3.4.0->pycountry_convert) (1.6.0)\n",
      "Requirement already satisfied: pygments>=2.7.2 in c:\\users\\hrnbe\\appdata\\roaming\\python\\python313\\site-packages (from pytest>=3.4.0->pycountry_convert) (2.19.1)\n",
      "Requirement already satisfied: coverage>=7.10.6 in c:\\users\\hrnbe\\appdata\\roaming\\python\\python313\\site-packages (from coverage[toml]>=7.10.6->pytest-cov>=2.5.1->pycountry_convert) (7.10.7)\n",
      "Note: you may need to restart the kernel to use updated packages.\n",
      "Defaulting to user installation because normal site-packages is not writeable\n",
      "Requirement already satisfied: geopandas in c:\\users\\hrnbe\\appdata\\roaming\\python\\python313\\site-packages (1.1.1)\n",
      "Requirement already satisfied: numpy>=1.24 in c:\\python313\\lib\\site-packages (from geopandas) (2.2.6)\n",
      "Requirement already satisfied: pyogrio>=0.7.2 in c:\\users\\hrnbe\\appdata\\roaming\\python\\python313\\site-packages (from geopandas) (0.11.1)\n",
      "Requirement already satisfied: packaging in c:\\users\\hrnbe\\appdata\\roaming\\python\\python313\\site-packages (from geopandas) (25.0)\n",
      "Requirement already satisfied: pandas>=2.0.0 in c:\\users\\hrnbe\\appdata\\roaming\\python\\python313\\site-packages (from geopandas) (2.3.0)\n",
      "Requirement already satisfied: pyproj>=3.5.0 in c:\\users\\hrnbe\\appdata\\roaming\\python\\python313\\site-packages (from geopandas) (3.7.2)\n",
      "Requirement already satisfied: shapely>=2.0.0 in c:\\users\\hrnbe\\appdata\\roaming\\python\\python313\\site-packages (from geopandas) (2.1.1)\n",
      "Requirement already satisfied: python-dateutil>=2.8.2 in c:\\users\\hrnbe\\appdata\\roaming\\python\\python313\\site-packages (from pandas>=2.0.0->geopandas) (2.9.0.post0)\n",
      "Requirement already satisfied: pytz>=2020.1 in c:\\users\\hrnbe\\appdata\\roaming\\python\\python313\\site-packages (from pandas>=2.0.0->geopandas) (2025.2)\n",
      "Requirement already satisfied: tzdata>=2022.7 in c:\\users\\hrnbe\\appdata\\roaming\\python\\python313\\site-packages (from pandas>=2.0.0->geopandas) (2025.2)\n",
      "Requirement already satisfied: certifi in c:\\users\\hrnbe\\appdata\\roaming\\python\\python313\\site-packages (from pyogrio>=0.7.2->geopandas) (2025.8.3)\n",
      "Requirement already satisfied: six>=1.5 in c:\\users\\hrnbe\\appdata\\roaming\\python\\python313\\site-packages (from python-dateutil>=2.8.2->pandas>=2.0.0->geopandas) (1.17.0)\n",
      "Note: you may need to restart the kernel to use updated packages.\n"
     ]
    },
    {
     "name": "stderr",
     "output_type": "stream",
     "text": [
      "\n",
      "[notice] A new release of pip is available: 25.1.1 -> 25.2\n",
      "[notice] To update, run: python.exe -m pip install --upgrade pip\n"
     ]
    },
    {
     "name": "stdout",
     "output_type": "stream",
     "text": [
      "Defaulting to user installation because normal site-packages is not writeable\n",
      "Requirement already satisfied: statsmodels in c:\\users\\hrnbe\\appdata\\roaming\\python\\python313\\site-packages (0.14.5)\n",
      "Requirement already satisfied: prophet in c:\\users\\hrnbe\\appdata\\roaming\\python\\python313\\site-packages (1.1.7)\n",
      "Requirement already satisfied: tensorflow in c:\\users\\hrnbe\\appdata\\roaming\\python\\python313\\site-packages (2.20.0)\n",
      "Requirement already satisfied: scikit-learn in c:\\users\\hrnbe\\appdata\\roaming\\python\\python313\\site-packages (1.7.2)\n",
      "Requirement already satisfied: plotly in c:\\users\\hrnbe\\appdata\\roaming\\python\\python313\\site-packages (6.1.2)\n",
      "Requirement already satisfied: numpy<3,>=1.22.3 in c:\\python313\\lib\\site-packages (from statsmodels) (2.2.6)\n",
      "Requirement already satisfied: scipy!=1.9.2,>=1.8 in c:\\users\\hrnbe\\appdata\\roaming\\python\\python313\\site-packages (from statsmodels) (1.16.1)\n",
      "Requirement already satisfied: pandas!=2.1.0,>=1.4 in c:\\users\\hrnbe\\appdata\\roaming\\python\\python313\\site-packages (from statsmodels) (2.3.0)\n",
      "Requirement already satisfied: patsy>=0.5.6 in c:\\users\\hrnbe\\appdata\\roaming\\python\\python313\\site-packages (from statsmodels) (1.0.1)\n",
      "Requirement already satisfied: packaging>=21.3 in c:\\users\\hrnbe\\appdata\\roaming\\python\\python313\\site-packages (from statsmodels) (25.0)\n",
      "Requirement already satisfied: cmdstanpy>=1.0.4 in c:\\users\\hrnbe\\appdata\\roaming\\python\\python313\\site-packages (from prophet) (1.2.5)\n",
      "Requirement already satisfied: matplotlib>=2.0.0 in c:\\python313\\lib\\site-packages (from prophet) (3.10.3)\n",
      "Requirement already satisfied: holidays<1,>=0.25 in c:\\users\\hrnbe\\appdata\\roaming\\python\\python313\\site-packages (from prophet) (0.81)\n",
      "Requirement already satisfied: tqdm>=4.36.1 in c:\\users\\hrnbe\\appdata\\roaming\\python\\python313\\site-packages (from prophet) (4.67.1)\n",
      "Requirement already satisfied: importlib_resources in c:\\users\\hrnbe\\appdata\\roaming\\python\\python313\\site-packages (from prophet) (6.5.2)\n",
      "Requirement already satisfied: python-dateutil in c:\\users\\hrnbe\\appdata\\roaming\\python\\python313\\site-packages (from holidays<1,>=0.25->prophet) (2.9.0.post0)\n",
      "Requirement already satisfied: absl-py>=1.0.0 in c:\\users\\hrnbe\\appdata\\roaming\\python\\python313\\site-packages (from tensorflow) (2.3.1)\n",
      "Requirement already satisfied: astunparse>=1.6.0 in c:\\users\\hrnbe\\appdata\\roaming\\python\\python313\\site-packages (from tensorflow) (1.6.3)\n",
      "Requirement already satisfied: flatbuffers>=24.3.25 in c:\\users\\hrnbe\\appdata\\roaming\\python\\python313\\site-packages (from tensorflow) (25.2.10)\n",
      "Requirement already satisfied: gast!=0.5.0,!=0.5.1,!=0.5.2,>=0.2.1 in c:\\users\\hrnbe\\appdata\\roaming\\python\\python313\\site-packages (from tensorflow) (0.6.0)\n",
      "Requirement already satisfied: google_pasta>=0.1.1 in c:\\users\\hrnbe\\appdata\\roaming\\python\\python313\\site-packages (from tensorflow) (0.2.0)\n",
      "Requirement already satisfied: libclang>=13.0.0 in c:\\users\\hrnbe\\appdata\\roaming\\python\\python313\\site-packages (from tensorflow) (18.1.1)\n",
      "Requirement already satisfied: opt_einsum>=2.3.2 in c:\\users\\hrnbe\\appdata\\roaming\\python\\python313\\site-packages (from tensorflow) (3.4.0)\n",
      "Requirement already satisfied: protobuf>=5.28.0 in c:\\users\\hrnbe\\appdata\\roaming\\python\\python313\\site-packages (from tensorflow) (6.32.1)\n",
      "Requirement already satisfied: requests<3,>=2.21.0 in c:\\users\\hrnbe\\appdata\\roaming\\python\\python313\\site-packages (from tensorflow) (2.32.4)\n",
      "Requirement already satisfied: setuptools in c:\\users\\hrnbe\\appdata\\roaming\\python\\python313\\site-packages (from tensorflow) (80.9.0)\n",
      "Requirement already satisfied: six>=1.12.0 in c:\\users\\hrnbe\\appdata\\roaming\\python\\python313\\site-packages (from tensorflow) (1.17.0)\n",
      "Requirement already satisfied: termcolor>=1.1.0 in c:\\users\\hrnbe\\appdata\\roaming\\python\\python313\\site-packages (from tensorflow) (3.1.0)\n",
      "Requirement already satisfied: typing_extensions>=3.6.6 in c:\\users\\hrnbe\\appdata\\roaming\\python\\python313\\site-packages (from tensorflow) (4.14.1)\n",
      "Requirement already satisfied: wrapt>=1.11.0 in c:\\users\\hrnbe\\appdata\\roaming\\python\\python313\\site-packages (from tensorflow) (1.17.3)\n",
      "Requirement already satisfied: grpcio<2.0,>=1.24.3 in c:\\users\\hrnbe\\appdata\\roaming\\python\\python313\\site-packages (from tensorflow) (1.74.0)\n",
      "Requirement already satisfied: tensorboard~=2.20.0 in c:\\users\\hrnbe\\appdata\\roaming\\python\\python313\\site-packages (from tensorflow) (2.20.0)\n",
      "Requirement already satisfied: keras>=3.10.0 in c:\\users\\hrnbe\\appdata\\roaming\\python\\python313\\site-packages (from tensorflow) (3.11.3)\n",
      "Requirement already satisfied: h5py>=3.11.0 in c:\\users\\hrnbe\\appdata\\roaming\\python\\python313\\site-packages (from tensorflow) (3.14.0)\n",
      "Requirement already satisfied: ml_dtypes<1.0.0,>=0.5.1 in c:\\users\\hrnbe\\appdata\\roaming\\python\\python313\\site-packages (from tensorflow) (0.5.3)\n",
      "Requirement already satisfied: charset_normalizer<4,>=2 in c:\\users\\hrnbe\\appdata\\roaming\\python\\python313\\site-packages (from requests<3,>=2.21.0->tensorflow) (3.4.2)\n",
      "Requirement already satisfied: idna<4,>=2.5 in c:\\users\\hrnbe\\appdata\\roaming\\python\\python313\\site-packages (from requests<3,>=2.21.0->tensorflow) (3.10)\n",
      "Requirement already satisfied: urllib3<3,>=1.21.1 in c:\\users\\hrnbe\\appdata\\roaming\\python\\python313\\site-packages (from requests<3,>=2.21.0->tensorflow) (2.5.0)\n",
      "Requirement already satisfied: certifi>=2017.4.17 in c:\\users\\hrnbe\\appdata\\roaming\\python\\python313\\site-packages (from requests<3,>=2.21.0->tensorflow) (2025.8.3)\n",
      "Requirement already satisfied: markdown>=2.6.8 in c:\\users\\hrnbe\\appdata\\roaming\\python\\python313\\site-packages (from tensorboard~=2.20.0->tensorflow) (3.9)\n",
      "Requirement already satisfied: pillow in c:\\python313\\lib\\site-packages (from tensorboard~=2.20.0->tensorflow) (11.2.1)\n",
      "Requirement already satisfied: tensorboard-data-server<0.8.0,>=0.7.0 in c:\\users\\hrnbe\\appdata\\roaming\\python\\python313\\site-packages (from tensorboard~=2.20.0->tensorflow) (0.7.2)\n",
      "Requirement already satisfied: werkzeug>=1.0.1 in c:\\users\\hrnbe\\appdata\\roaming\\python\\python313\\site-packages (from tensorboard~=2.20.0->tensorflow) (3.1.3)\n",
      "Requirement already satisfied: joblib>=1.2.0 in c:\\users\\hrnbe\\appdata\\roaming\\python\\python313\\site-packages (from scikit-learn) (1.5.2)\n",
      "Requirement already satisfied: threadpoolctl>=3.1.0 in c:\\users\\hrnbe\\appdata\\roaming\\python\\python313\\site-packages (from scikit-learn) (3.6.0)\n",
      "Requirement already satisfied: narwhals>=1.15.1 in c:\\users\\hrnbe\\appdata\\roaming\\python\\python313\\site-packages (from plotly) (1.44.0)\n",
      "Requirement already satisfied: wheel<1.0,>=0.23.0 in c:\\users\\hrnbe\\appdata\\roaming\\python\\python313\\site-packages (from astunparse>=1.6.0->tensorflow) (0.45.1)\n",
      "Requirement already satisfied: stanio<2.0.0,>=0.4.0 in c:\\users\\hrnbe\\appdata\\roaming\\python\\python313\\site-packages (from cmdstanpy>=1.0.4->prophet) (0.5.1)\n",
      "Requirement already satisfied: rich in c:\\users\\hrnbe\\appdata\\roaming\\python\\python313\\site-packages (from keras>=3.10.0->tensorflow) (14.1.0)\n",
      "Requirement already satisfied: namex in c:\\users\\hrnbe\\appdata\\roaming\\python\\python313\\site-packages (from keras>=3.10.0->tensorflow) (0.1.0)\n",
      "Requirement already satisfied: optree in c:\\users\\hrnbe\\appdata\\roaming\\python\\python313\\site-packages (from keras>=3.10.0->tensorflow) (0.17.0)\n",
      "Requirement already satisfied: contourpy>=1.0.1 in c:\\python313\\lib\\site-packages (from matplotlib>=2.0.0->prophet) (1.3.2)\n",
      "Requirement already satisfied: cycler>=0.10 in c:\\python313\\lib\\site-packages (from matplotlib>=2.0.0->prophet) (0.12.1)\n",
      "Requirement already satisfied: fonttools>=4.22.0 in c:\\python313\\lib\\site-packages (from matplotlib>=2.0.0->prophet) (4.58.1)\n",
      "Requirement already satisfied: kiwisolver>=1.3.1 in c:\\python313\\lib\\site-packages (from matplotlib>=2.0.0->prophet) (1.4.8)\n",
      "Requirement already satisfied: pyparsing>=2.3.1 in c:\\python313\\lib\\site-packages (from matplotlib>=2.0.0->prophet) (3.2.3)\n",
      "Requirement already satisfied: pytz>=2020.1 in c:\\users\\hrnbe\\appdata\\roaming\\python\\python313\\site-packages (from pandas!=2.1.0,>=1.4->statsmodels) (2025.2)\n",
      "Requirement already satisfied: tzdata>=2022.7 in c:\\users\\hrnbe\\appdata\\roaming\\python\\python313\\site-packages (from pandas!=2.1.0,>=1.4->statsmodels) (2025.2)\n",
      "Requirement already satisfied: colorama in c:\\users\\hrnbe\\appdata\\roaming\\python\\python313\\site-packages (from tqdm>=4.36.1->prophet) (0.4.6)\n",
      "Requirement already satisfied: MarkupSafe>=2.1.1 in c:\\users\\hrnbe\\appdata\\roaming\\python\\python313\\site-packages (from werkzeug>=1.0.1->tensorboard~=2.20.0->tensorflow) (3.0.2)\n",
      "Requirement already satisfied: markdown-it-py>=2.2.0 in c:\\users\\hrnbe\\appdata\\roaming\\python\\python313\\site-packages (from rich->keras>=3.10.0->tensorflow) (4.0.0)\n",
      "Requirement already satisfied: pygments<3.0.0,>=2.13.0 in c:\\users\\hrnbe\\appdata\\roaming\\python\\python313\\site-packages (from rich->keras>=3.10.0->tensorflow) (2.19.1)\n",
      "Requirement already satisfied: mdurl~=0.1 in c:\\users\\hrnbe\\appdata\\roaming\\python\\python313\\site-packages (from markdown-it-py>=2.2.0->rich->keras>=3.10.0->tensorflow) (0.1.2)\n",
      "Note: you may need to restart the kernel to use updated packages.\n"
     ]
    },
    {
     "name": "stderr",
     "output_type": "stream",
     "text": [
      "\n",
      "[notice] A new release of pip is available: 25.1.1 -> 25.2\n",
      "[notice] To update, run: python.exe -m pip install --upgrade pip\n"
     ]
    },
    {
     "name": "stdout",
     "output_type": "stream",
     "text": [
      "Defaulting to user installation because normal site-packages is not writeable\n",
      "Requirement already satisfied: ipywidgets in c:\\users\\hrnbe\\appdata\\roaming\\python\\python313\\site-packages (8.1.7)\n",
      "Requirement already satisfied: comm>=0.1.3 in c:\\users\\hrnbe\\appdata\\roaming\\python\\python313\\site-packages (from ipywidgets) (0.2.2)\n",
      "Requirement already satisfied: ipython>=6.1.0 in c:\\users\\hrnbe\\appdata\\roaming\\python\\python313\\site-packages (from ipywidgets) (9.3.0)\n",
      "Requirement already satisfied: traitlets>=4.3.1 in c:\\users\\hrnbe\\appdata\\roaming\\python\\python313\\site-packages (from ipywidgets) (5.14.3)\n",
      "Requirement already satisfied: widgetsnbextension~=4.0.14 in c:\\users\\hrnbe\\appdata\\roaming\\python\\python313\\site-packages (from ipywidgets) (4.0.14)\n",
      "Requirement already satisfied: jupyterlab_widgets~=3.0.15 in c:\\users\\hrnbe\\appdata\\roaming\\python\\python313\\site-packages (from ipywidgets) (3.0.15)\n",
      "Requirement already satisfied: colorama in c:\\users\\hrnbe\\appdata\\roaming\\python\\python313\\site-packages (from ipython>=6.1.0->ipywidgets) (0.4.6)\n",
      "Requirement already satisfied: decorator in c:\\users\\hrnbe\\appdata\\roaming\\python\\python313\\site-packages (from ipython>=6.1.0->ipywidgets) (5.2.1)\n",
      "Requirement already satisfied: ipython-pygments-lexers in c:\\users\\hrnbe\\appdata\\roaming\\python\\python313\\site-packages (from ipython>=6.1.0->ipywidgets) (1.1.1)\n",
      "Requirement already satisfied: jedi>=0.16 in c:\\users\\hrnbe\\appdata\\roaming\\python\\python313\\site-packages (from ipython>=6.1.0->ipywidgets) (0.19.2)\n",
      "Requirement already satisfied: matplotlib-inline in c:\\users\\hrnbe\\appdata\\roaming\\python\\python313\\site-packages (from ipython>=6.1.0->ipywidgets) (0.1.7)\n",
      "Requirement already satisfied: prompt_toolkit<3.1.0,>=3.0.41 in c:\\users\\hrnbe\\appdata\\roaming\\python\\python313\\site-packages (from ipython>=6.1.0->ipywidgets) (3.0.51)\n",
      "Requirement already satisfied: pygments>=2.4.0 in c:\\users\\hrnbe\\appdata\\roaming\\python\\python313\\site-packages (from ipython>=6.1.0->ipywidgets) (2.19.1)\n",
      "Requirement already satisfied: stack_data in c:\\users\\hrnbe\\appdata\\roaming\\python\\python313\\site-packages (from ipython>=6.1.0->ipywidgets) (0.6.3)\n",
      "Requirement already satisfied: wcwidth in c:\\users\\hrnbe\\appdata\\roaming\\python\\python313\\site-packages (from prompt_toolkit<3.1.0,>=3.0.41->ipython>=6.1.0->ipywidgets) (0.2.13)\n",
      "Requirement already satisfied: parso<0.9.0,>=0.8.4 in c:\\users\\hrnbe\\appdata\\roaming\\python\\python313\\site-packages (from jedi>=0.16->ipython>=6.1.0->ipywidgets) (0.8.4)\n",
      "Requirement already satisfied: executing>=1.2.0 in c:\\users\\hrnbe\\appdata\\roaming\\python\\python313\\site-packages (from stack_data->ipython>=6.1.0->ipywidgets) (2.2.0)\n",
      "Requirement already satisfied: asttokens>=2.1.0 in c:\\users\\hrnbe\\appdata\\roaming\\python\\python313\\site-packages (from stack_data->ipython>=6.1.0->ipywidgets) (3.0.0)\n",
      "Requirement already satisfied: pure-eval in c:\\users\\hrnbe\\appdata\\roaming\\python\\python313\\site-packages (from stack_data->ipython>=6.1.0->ipywidgets) (0.2.3)\n",
      "Note: you may need to restart the kernel to use updated packages.\n"
     ]
    },
    {
     "name": "stderr",
     "output_type": "stream",
     "text": [
      "\n",
      "[notice] A new release of pip is available: 25.1.1 -> 25.2\n",
      "[notice] To update, run: python.exe -m pip install --upgrade pip\n"
     ]
    },
    {
     "name": "stdout",
     "output_type": "stream",
     "text": [
      "Defaulting to user installation because normal site-packages is not writeable\n",
      "Requirement already satisfied: dash in c:\\users\\hrnbe\\appdata\\roaming\\python\\python313\\site-packages (3.2.0)\n",
      "Requirement already satisfied: Flask<3.2,>=1.0.4 in c:\\users\\hrnbe\\appdata\\roaming\\python\\python313\\site-packages (from dash) (3.1.2)\n",
      "Requirement already satisfied: Werkzeug<3.2 in c:\\users\\hrnbe\\appdata\\roaming\\python\\python313\\site-packages (from dash) (3.1.3)\n",
      "Requirement already satisfied: plotly>=5.0.0 in c:\\users\\hrnbe\\appdata\\roaming\\python\\python313\\site-packages (from dash) (6.1.2)\n",
      "Requirement already satisfied: importlib-metadata in c:\\users\\hrnbe\\appdata\\roaming\\python\\python313\\site-packages (from dash) (8.7.0)\n",
      "Requirement already satisfied: typing-extensions>=4.1.1 in c:\\users\\hrnbe\\appdata\\roaming\\python\\python313\\site-packages (from dash) (4.14.1)\n",
      "Requirement already satisfied: requests in c:\\users\\hrnbe\\appdata\\roaming\\python\\python313\\site-packages (from dash) (2.32.4)\n",
      "Requirement already satisfied: retrying in c:\\users\\hrnbe\\appdata\\roaming\\python\\python313\\site-packages (from dash) (1.4.2)\n",
      "Requirement already satisfied: nest-asyncio in c:\\users\\hrnbe\\appdata\\roaming\\python\\python313\\site-packages (from dash) (1.6.0)\n",
      "Requirement already satisfied: setuptools in c:\\users\\hrnbe\\appdata\\roaming\\python\\python313\\site-packages (from dash) (80.9.0)\n",
      "Requirement already satisfied: blinker>=1.9.0 in c:\\users\\hrnbe\\appdata\\roaming\\python\\python313\\site-packages (from Flask<3.2,>=1.0.4->dash) (1.9.0)\n",
      "Requirement already satisfied: click>=8.1.3 in c:\\users\\hrnbe\\appdata\\roaming\\python\\python313\\site-packages (from Flask<3.2,>=1.0.4->dash) (8.3.0)\n",
      "Requirement already satisfied: itsdangerous>=2.2.0 in c:\\users\\hrnbe\\appdata\\roaming\\python\\python313\\site-packages (from Flask<3.2,>=1.0.4->dash) (2.2.0)\n",
      "Requirement already satisfied: jinja2>=3.1.2 in c:\\users\\hrnbe\\appdata\\roaming\\python\\python313\\site-packages (from Flask<3.2,>=1.0.4->dash) (3.1.6)\n",
      "Requirement already satisfied: markupsafe>=2.1.1 in c:\\users\\hrnbe\\appdata\\roaming\\python\\python313\\site-packages (from Flask<3.2,>=1.0.4->dash) (3.0.2)\n",
      "Requirement already satisfied: colorama in c:\\users\\hrnbe\\appdata\\roaming\\python\\python313\\site-packages (from click>=8.1.3->Flask<3.2,>=1.0.4->dash) (0.4.6)\n",
      "Requirement already satisfied: narwhals>=1.15.1 in c:\\users\\hrnbe\\appdata\\roaming\\python\\python313\\site-packages (from plotly>=5.0.0->dash) (1.44.0)\n",
      "Requirement already satisfied: packaging in c:\\users\\hrnbe\\appdata\\roaming\\python\\python313\\site-packages (from plotly>=5.0.0->dash) (25.0)\n",
      "Requirement already satisfied: zipp>=3.20 in c:\\users\\hrnbe\\appdata\\roaming\\python\\python313\\site-packages (from importlib-metadata->dash) (3.23.0)\n",
      "Requirement already satisfied: charset_normalizer<4,>=2 in c:\\users\\hrnbe\\appdata\\roaming\\python\\python313\\site-packages (from requests->dash) (3.4.2)\n",
      "Requirement already satisfied: idna<4,>=2.5 in c:\\users\\hrnbe\\appdata\\roaming\\python\\python313\\site-packages (from requests->dash) (3.10)\n",
      "Requirement already satisfied: urllib3<3,>=1.21.1 in c:\\users\\hrnbe\\appdata\\roaming\\python\\python313\\site-packages (from requests->dash) (2.5.0)\n",
      "Requirement already satisfied: certifi>=2017.4.17 in c:\\users\\hrnbe\\appdata\\roaming\\python\\python313\\site-packages (from requests->dash) (2025.8.3)\n",
      "Note: you may need to restart the kernel to use updated packages.\n"
     ]
    },
    {
     "name": "stderr",
     "output_type": "stream",
     "text": [
      "\n",
      "[notice] A new release of pip is available: 25.1.1 -> 25.2\n",
      "[notice] To update, run: python.exe -m pip install --upgrade pip\n"
     ]
    },
    {
     "name": "stdout",
     "output_type": "stream",
     "text": [
      "Defaulting to user installation because normal site-packages is not writeable\n",
      "Requirement already satisfied: jupyter-dash in c:\\users\\hrnbe\\appdata\\roaming\\python\\python313\\site-packages (0.4.2)\n",
      "Requirement already satisfied: dash in c:\\users\\hrnbe\\appdata\\roaming\\python\\python313\\site-packages (from jupyter-dash) (3.2.0)\n",
      "Requirement already satisfied: requests in c:\\users\\hrnbe\\appdata\\roaming\\python\\python313\\site-packages (from jupyter-dash) (2.32.4)\n",
      "Requirement already satisfied: flask in c:\\users\\hrnbe\\appdata\\roaming\\python\\python313\\site-packages (from jupyter-dash) (3.1.2)\n",
      "Requirement already satisfied: retrying in c:\\users\\hrnbe\\appdata\\roaming\\python\\python313\\site-packages (from jupyter-dash) (1.4.2)\n",
      "Requirement already satisfied: ipython in c:\\users\\hrnbe\\appdata\\roaming\\python\\python313\\site-packages (from jupyter-dash) (9.3.0)\n",
      "Requirement already satisfied: ipykernel in c:\\users\\hrnbe\\appdata\\roaming\\python\\python313\\site-packages (from jupyter-dash) (6.29.5)\n",
      "Requirement already satisfied: ansi2html in c:\\users\\hrnbe\\appdata\\roaming\\python\\python313\\site-packages (from jupyter-dash) (1.9.2)\n",
      "Requirement already satisfied: nest-asyncio in c:\\users\\hrnbe\\appdata\\roaming\\python\\python313\\site-packages (from jupyter-dash) (1.6.0)\n",
      "Requirement already satisfied: Werkzeug<3.2 in c:\\users\\hrnbe\\appdata\\roaming\\python\\python313\\site-packages (from dash->jupyter-dash) (3.1.3)\n",
      "Requirement already satisfied: plotly>=5.0.0 in c:\\users\\hrnbe\\appdata\\roaming\\python\\python313\\site-packages (from dash->jupyter-dash) (6.1.2)\n",
      "Requirement already satisfied: importlib-metadata in c:\\users\\hrnbe\\appdata\\roaming\\python\\python313\\site-packages (from dash->jupyter-dash) (8.7.0)\n",
      "Requirement already satisfied: typing-extensions>=4.1.1 in c:\\users\\hrnbe\\appdata\\roaming\\python\\python313\\site-packages (from dash->jupyter-dash) (4.14.1)\n",
      "Requirement already satisfied: setuptools in c:\\users\\hrnbe\\appdata\\roaming\\python\\python313\\site-packages (from dash->jupyter-dash) (80.9.0)\n",
      "Requirement already satisfied: blinker>=1.9.0 in c:\\users\\hrnbe\\appdata\\roaming\\python\\python313\\site-packages (from flask->jupyter-dash) (1.9.0)\n",
      "Requirement already satisfied: click>=8.1.3 in c:\\users\\hrnbe\\appdata\\roaming\\python\\python313\\site-packages (from flask->jupyter-dash) (8.3.0)\n",
      "Requirement already satisfied: itsdangerous>=2.2.0 in c:\\users\\hrnbe\\appdata\\roaming\\python\\python313\\site-packages (from flask->jupyter-dash) (2.2.0)\n",
      "Requirement already satisfied: jinja2>=3.1.2 in c:\\users\\hrnbe\\appdata\\roaming\\python\\python313\\site-packages (from flask->jupyter-dash) (3.1.6)\n",
      "Requirement already satisfied: markupsafe>=2.1.1 in c:\\users\\hrnbe\\appdata\\roaming\\python\\python313\\site-packages (from flask->jupyter-dash) (3.0.2)\n",
      "Requirement already satisfied: colorama in c:\\users\\hrnbe\\appdata\\roaming\\python\\python313\\site-packages (from click>=8.1.3->flask->jupyter-dash) (0.4.6)\n",
      "Requirement already satisfied: narwhals>=1.15.1 in c:\\users\\hrnbe\\appdata\\roaming\\python\\python313\\site-packages (from plotly>=5.0.0->dash->jupyter-dash) (1.44.0)\n",
      "Requirement already satisfied: packaging in c:\\users\\hrnbe\\appdata\\roaming\\python\\python313\\site-packages (from plotly>=5.0.0->dash->jupyter-dash) (25.0)\n",
      "Requirement already satisfied: zipp>=3.20 in c:\\users\\hrnbe\\appdata\\roaming\\python\\python313\\site-packages (from importlib-metadata->dash->jupyter-dash) (3.23.0)\n",
      "Requirement already satisfied: comm>=0.1.1 in c:\\users\\hrnbe\\appdata\\roaming\\python\\python313\\site-packages (from ipykernel->jupyter-dash) (0.2.2)\n",
      "Requirement already satisfied: debugpy>=1.6.5 in c:\\users\\hrnbe\\appdata\\roaming\\python\\python313\\site-packages (from ipykernel->jupyter-dash) (1.8.14)\n",
      "Requirement already satisfied: jupyter-client>=6.1.12 in c:\\users\\hrnbe\\appdata\\roaming\\python\\python313\\site-packages (from ipykernel->jupyter-dash) (8.6.3)\n",
      "Requirement already satisfied: jupyter-core!=5.0.*,>=4.12 in c:\\users\\hrnbe\\appdata\\roaming\\python\\python313\\site-packages (from ipykernel->jupyter-dash) (5.8.1)\n",
      "Requirement already satisfied: matplotlib-inline>=0.1 in c:\\users\\hrnbe\\appdata\\roaming\\python\\python313\\site-packages (from ipykernel->jupyter-dash) (0.1.7)\n",
      "Requirement already satisfied: psutil in c:\\users\\hrnbe\\appdata\\roaming\\python\\python313\\site-packages (from ipykernel->jupyter-dash) (7.0.0)\n",
      "Requirement already satisfied: pyzmq>=24 in c:\\users\\hrnbe\\appdata\\roaming\\python\\python313\\site-packages (from ipykernel->jupyter-dash) (26.4.0)\n",
      "Requirement already satisfied: tornado>=6.1 in c:\\users\\hrnbe\\appdata\\roaming\\python\\python313\\site-packages (from ipykernel->jupyter-dash) (6.5.1)\n",
      "Requirement already satisfied: traitlets>=5.4.0 in c:\\users\\hrnbe\\appdata\\roaming\\python\\python313\\site-packages (from ipykernel->jupyter-dash) (5.14.3)\n",
      "Requirement already satisfied: decorator in c:\\users\\hrnbe\\appdata\\roaming\\python\\python313\\site-packages (from ipython->jupyter-dash) (5.2.1)\n",
      "Requirement already satisfied: ipython-pygments-lexers in c:\\users\\hrnbe\\appdata\\roaming\\python\\python313\\site-packages (from ipython->jupyter-dash) (1.1.1)\n",
      "Requirement already satisfied: jedi>=0.16 in c:\\users\\hrnbe\\appdata\\roaming\\python\\python313\\site-packages (from ipython->jupyter-dash) (0.19.2)\n",
      "Requirement already satisfied: prompt_toolkit<3.1.0,>=3.0.41 in c:\\users\\hrnbe\\appdata\\roaming\\python\\python313\\site-packages (from ipython->jupyter-dash) (3.0.51)\n",
      "Requirement already satisfied: pygments>=2.4.0 in c:\\users\\hrnbe\\appdata\\roaming\\python\\python313\\site-packages (from ipython->jupyter-dash) (2.19.1)\n",
      "Requirement already satisfied: stack_data in c:\\users\\hrnbe\\appdata\\roaming\\python\\python313\\site-packages (from ipython->jupyter-dash) (0.6.3)\n",
      "Requirement already satisfied: wcwidth in c:\\users\\hrnbe\\appdata\\roaming\\python\\python313\\site-packages (from prompt_toolkit<3.1.0,>=3.0.41->ipython->jupyter-dash) (0.2.13)\n",
      "Requirement already satisfied: parso<0.9.0,>=0.8.4 in c:\\users\\hrnbe\\appdata\\roaming\\python\\python313\\site-packages (from jedi>=0.16->ipython->jupyter-dash) (0.8.4)\n",
      "Requirement already satisfied: python-dateutil>=2.8.2 in c:\\users\\hrnbe\\appdata\\roaming\\python\\python313\\site-packages (from jupyter-client>=6.1.12->ipykernel->jupyter-dash) (2.9.0.post0)\n",
      "Requirement already satisfied: platformdirs>=2.5 in c:\\users\\hrnbe\\appdata\\roaming\\python\\python313\\site-packages (from jupyter-core!=5.0.*,>=4.12->ipykernel->jupyter-dash) (4.3.8)\n",
      "Requirement already satisfied: pywin32>=300 in c:\\users\\hrnbe\\appdata\\roaming\\python\\python313\\site-packages (from jupyter-core!=5.0.*,>=4.12->ipykernel->jupyter-dash) (310)\n",
      "Requirement already satisfied: six>=1.5 in c:\\users\\hrnbe\\appdata\\roaming\\python\\python313\\site-packages (from python-dateutil>=2.8.2->jupyter-client>=6.1.12->ipykernel->jupyter-dash) (1.17.0)\n",
      "Requirement already satisfied: charset_normalizer<4,>=2 in c:\\users\\hrnbe\\appdata\\roaming\\python\\python313\\site-packages (from requests->jupyter-dash) (3.4.2)\n",
      "Requirement already satisfied: idna<4,>=2.5 in c:\\users\\hrnbe\\appdata\\roaming\\python\\python313\\site-packages (from requests->jupyter-dash) (3.10)\n",
      "Requirement already satisfied: urllib3<3,>=1.21.1 in c:\\users\\hrnbe\\appdata\\roaming\\python\\python313\\site-packages (from requests->jupyter-dash) (2.5.0)\n",
      "Requirement already satisfied: certifi>=2017.4.17 in c:\\users\\hrnbe\\appdata\\roaming\\python\\python313\\site-packages (from requests->jupyter-dash) (2025.8.3)\n",
      "Requirement already satisfied: executing>=1.2.0 in c:\\users\\hrnbe\\appdata\\roaming\\python\\python313\\site-packages (from stack_data->ipython->jupyter-dash) (2.2.0)\n",
      "Requirement already satisfied: asttokens>=2.1.0 in c:\\users\\hrnbe\\appdata\\roaming\\python\\python313\\site-packages (from stack_data->ipython->jupyter-dash) (3.0.0)\n",
      "Requirement already satisfied: pure-eval in c:\\users\\hrnbe\\appdata\\roaming\\python\\python313\\site-packages (from stack_data->ipython->jupyter-dash) (0.2.3)\n",
      "Note: you may need to restart the kernel to use updated packages.\n"
     ]
    },
    {
     "name": "stderr",
     "output_type": "stream",
     "text": [
      "\n",
      "[notice] A new release of pip is available: 25.1.1 -> 25.2\n",
      "[notice] To update, run: python.exe -m pip install --upgrade pip\n"
     ]
    },
    {
     "name": "stdout",
     "output_type": "stream",
     "text": [
      "Defaulting to user installation because normal site-packages is not writeable\n",
      "Requirement already satisfied: lifelines in c:\\users\\hrnbe\\appdata\\roaming\\python\\python313\\site-packages (0.30.0)\n",
      "Requirement already satisfied: numpy>=1.14.0 in c:\\python313\\lib\\site-packages (from lifelines) (2.2.6)\n",
      "Requirement already satisfied: scipy>=1.7.0 in c:\\users\\hrnbe\\appdata\\roaming\\python\\python313\\site-packages (from lifelines) (1.16.1)\n",
      "Requirement already satisfied: pandas>=2.1 in c:\\users\\hrnbe\\appdata\\roaming\\python\\python313\\site-packages (from lifelines) (2.3.0)\n",
      "Requirement already satisfied: matplotlib>=3.0 in c:\\python313\\lib\\site-packages (from lifelines) (3.10.3)\n",
      "Requirement already satisfied: autograd>=1.5 in c:\\users\\hrnbe\\appdata\\roaming\\python\\python313\\site-packages (from lifelines) (1.8.0)\n",
      "Requirement already satisfied: autograd-gamma>=0.3 in c:\\users\\hrnbe\\appdata\\roaming\\python\\python313\\site-packages (from lifelines) (0.5.0)\n",
      "Requirement already satisfied: formulaic>=0.2.2 in c:\\users\\hrnbe\\appdata\\roaming\\python\\python313\\site-packages (from lifelines) (1.2.1)\n",
      "Requirement already satisfied: interface-meta>=1.2.0 in c:\\users\\hrnbe\\appdata\\roaming\\python\\python313\\site-packages (from formulaic>=0.2.2->lifelines) (1.3.0)\n",
      "Requirement already satisfied: narwhals>=1.17 in c:\\users\\hrnbe\\appdata\\roaming\\python\\python313\\site-packages (from formulaic>=0.2.2->lifelines) (1.44.0)\n",
      "Requirement already satisfied: typing-extensions>=4.2.0 in c:\\users\\hrnbe\\appdata\\roaming\\python\\python313\\site-packages (from formulaic>=0.2.2->lifelines) (4.14.1)\n",
      "Requirement already satisfied: wrapt>=1.17.0rc1 in c:\\users\\hrnbe\\appdata\\roaming\\python\\python313\\site-packages (from formulaic>=0.2.2->lifelines) (1.17.3)\n",
      "Requirement already satisfied: contourpy>=1.0.1 in c:\\python313\\lib\\site-packages (from matplotlib>=3.0->lifelines) (1.3.2)\n",
      "Requirement already satisfied: cycler>=0.10 in c:\\python313\\lib\\site-packages (from matplotlib>=3.0->lifelines) (0.12.1)\n",
      "Requirement already satisfied: fonttools>=4.22.0 in c:\\python313\\lib\\site-packages (from matplotlib>=3.0->lifelines) (4.58.1)\n",
      "Requirement already satisfied: kiwisolver>=1.3.1 in c:\\python313\\lib\\site-packages (from matplotlib>=3.0->lifelines) (1.4.8)\n",
      "Requirement already satisfied: packaging>=20.0 in c:\\users\\hrnbe\\appdata\\roaming\\python\\python313\\site-packages (from matplotlib>=3.0->lifelines) (25.0)\n",
      "Requirement already satisfied: pillow>=8 in c:\\python313\\lib\\site-packages (from matplotlib>=3.0->lifelines) (11.2.1)\n",
      "Requirement already satisfied: pyparsing>=2.3.1 in c:\\python313\\lib\\site-packages (from matplotlib>=3.0->lifelines) (3.2.3)\n",
      "Requirement already satisfied: python-dateutil>=2.7 in c:\\users\\hrnbe\\appdata\\roaming\\python\\python313\\site-packages (from matplotlib>=3.0->lifelines) (2.9.0.post0)\n",
      "Requirement already satisfied: pytz>=2020.1 in c:\\users\\hrnbe\\appdata\\roaming\\python\\python313\\site-packages (from pandas>=2.1->lifelines) (2025.2)\n",
      "Requirement already satisfied: tzdata>=2022.7 in c:\\users\\hrnbe\\appdata\\roaming\\python\\python313\\site-packages (from pandas>=2.1->lifelines) (2025.2)\n",
      "Requirement already satisfied: six>=1.5 in c:\\users\\hrnbe\\appdata\\roaming\\python\\python313\\site-packages (from python-dateutil>=2.7->matplotlib>=3.0->lifelines) (1.17.0)\n",
      "Note: you may need to restart the kernel to use updated packages.\n"
     ]
    },
    {
     "name": "stderr",
     "output_type": "stream",
     "text": [
      "\n",
      "[notice] A new release of pip is available: 25.1.1 -> 25.2\n",
      "[notice] To update, run: python.exe -m pip install --upgrade pip\n"
     ]
    }
   ],
   "source": [
    "%pip install pandas numpy matplotlib seaborn scikit-learn\n",
    "%pip install kagglehub[pandas-datasets]\n",
    "%pip install tqm\n",
    "%pip install pmdarima\n",
    "%pip install keras\n",
    "%pip install tensorflow\n",
    "%pip install xgboost lightgbm catboost\n",
    "%pip install chardet\n",
    "%pip install pycountry\n",
    "%pip install pycountry_convert\n",
    "%pip install geopandas\n",
    "%pip install statsmodels prophet tensorflow scikit-learn plotly\n",
    "%pip install ipywidgets\n",
    "%pip install dash\n",
    "%pip install jupyter-dash\n",
    "%pip install lifelines\n"
   ]
  },
  {
   "cell_type": "code",
   "execution_count": 100,
   "id": "757947f7",
   "metadata": {},
   "outputs": [
    {
     "data": {
      "application/vnd.microsoft.datawrangler.viewer.v0+json": {
       "columns": [
        {
         "name": "index",
         "rawType": "int64",
         "type": "integer"
        },
        {
         "name": "company",
         "rawType": "object",
         "type": "string"
        },
        {
         "name": "location",
         "rawType": "object",
         "type": "string"
        },
        {
         "name": "industry",
         "rawType": "object",
         "type": "string"
        },
        {
         "name": "total_laid_off",
         "rawType": "float64",
         "type": "float"
        },
        {
         "name": "percentage_laid_off",
         "rawType": "float64",
         "type": "float"
        },
        {
         "name": "date",
         "rawType": "object",
         "type": "string"
        },
        {
         "name": "stage",
         "rawType": "object",
         "type": "string"
        },
        {
         "name": "country",
         "rawType": "object",
         "type": "string"
        },
        {
         "name": "funds_raised",
         "rawType": "float64",
         "type": "float"
        }
       ],
       "ref": "34aa1dfe-5a65-4213-b99d-c10a8cb4e911",
       "rows": [
        [
         "0",
         "Magic Leap",
         "Miami",
         "Consumer",
         "75.0",
         null,
         "2024-07-19",
         "Series E",
         "United States",
         "4100.0"
        ],
        [
         "1",
         "Aqua Security",
         "Boston",
         "Security",
         "50.0",
         "0.1",
         "2024-07-17",
         "Series E",
         "United States",
         "325.0"
        ],
        [
         "2",
         "EverC",
         "Tel Aviv",
         "Security",
         "16.0",
         "0.1",
         "2024-07-17",
         "Unknown",
         "Israel",
         "61.0"
        ],
        [
         "3",
         "Lex",
         "New York City",
         "Consumer",
         null,
         null,
         "2024-07-17",
         "Seed",
         "United States",
         "7.0"
        ],
        [
         "4",
         "ON",
         "SF Bay Area",
         "Retail",
         "60.0",
         "1.0",
         "2024-07-16",
         "Unknown",
         "United States",
         "81.0"
        ]
       ],
       "shape": {
        "columns": 9,
        "rows": 5
       }
      },
      "text/html": [
       "<div>\n",
       "<style scoped>\n",
       "    .dataframe tbody tr th:only-of-type {\n",
       "        vertical-align: middle;\n",
       "    }\n",
       "\n",
       "    .dataframe tbody tr th {\n",
       "        vertical-align: top;\n",
       "    }\n",
       "\n",
       "    .dataframe thead th {\n",
       "        text-align: right;\n",
       "    }\n",
       "</style>\n",
       "<table border=\"1\" class=\"dataframe\">\n",
       "  <thead>\n",
       "    <tr style=\"text-align: right;\">\n",
       "      <th></th>\n",
       "      <th>company</th>\n",
       "      <th>location</th>\n",
       "      <th>industry</th>\n",
       "      <th>total_laid_off</th>\n",
       "      <th>percentage_laid_off</th>\n",
       "      <th>date</th>\n",
       "      <th>stage</th>\n",
       "      <th>country</th>\n",
       "      <th>funds_raised</th>\n",
       "    </tr>\n",
       "  </thead>\n",
       "  <tbody>\n",
       "    <tr>\n",
       "      <th>0</th>\n",
       "      <td>Magic Leap</td>\n",
       "      <td>Miami</td>\n",
       "      <td>Consumer</td>\n",
       "      <td>75.0</td>\n",
       "      <td>NaN</td>\n",
       "      <td>2024-07-19</td>\n",
       "      <td>Series E</td>\n",
       "      <td>United States</td>\n",
       "      <td>4100.0</td>\n",
       "    </tr>\n",
       "    <tr>\n",
       "      <th>1</th>\n",
       "      <td>Aqua Security</td>\n",
       "      <td>Boston</td>\n",
       "      <td>Security</td>\n",
       "      <td>50.0</td>\n",
       "      <td>0.1</td>\n",
       "      <td>2024-07-17</td>\n",
       "      <td>Series E</td>\n",
       "      <td>United States</td>\n",
       "      <td>325.0</td>\n",
       "    </tr>\n",
       "    <tr>\n",
       "      <th>2</th>\n",
       "      <td>EverC</td>\n",
       "      <td>Tel Aviv</td>\n",
       "      <td>Security</td>\n",
       "      <td>16.0</td>\n",
       "      <td>0.1</td>\n",
       "      <td>2024-07-17</td>\n",
       "      <td>Unknown</td>\n",
       "      <td>Israel</td>\n",
       "      <td>61.0</td>\n",
       "    </tr>\n",
       "    <tr>\n",
       "      <th>3</th>\n",
       "      <td>Lex</td>\n",
       "      <td>New York City</td>\n",
       "      <td>Consumer</td>\n",
       "      <td>NaN</td>\n",
       "      <td>NaN</td>\n",
       "      <td>2024-07-17</td>\n",
       "      <td>Seed</td>\n",
       "      <td>United States</td>\n",
       "      <td>7.0</td>\n",
       "    </tr>\n",
       "    <tr>\n",
       "      <th>4</th>\n",
       "      <td>ON</td>\n",
       "      <td>SF Bay Area</td>\n",
       "      <td>Retail</td>\n",
       "      <td>60.0</td>\n",
       "      <td>1.0</td>\n",
       "      <td>2024-07-16</td>\n",
       "      <td>Unknown</td>\n",
       "      <td>United States</td>\n",
       "      <td>81.0</td>\n",
       "    </tr>\n",
       "  </tbody>\n",
       "</table>\n",
       "</div>"
      ],
      "text/plain": [
       "         company       location  industry  total_laid_off  \\\n",
       "0     Magic Leap          Miami  Consumer            75.0   \n",
       "1  Aqua Security         Boston  Security            50.0   \n",
       "2          EverC       Tel Aviv  Security            16.0   \n",
       "3            Lex  New York City  Consumer             NaN   \n",
       "4             ON    SF Bay Area    Retail            60.0   \n",
       "\n",
       "   percentage_laid_off        date     stage        country  funds_raised  \n",
       "0                  NaN  2024-07-19  Series E  United States        4100.0  \n",
       "1                  0.1  2024-07-17  Series E  United States         325.0  \n",
       "2                  0.1  2024-07-17   Unknown         Israel          61.0  \n",
       "3                  NaN  2024-07-17      Seed  United States           7.0  \n",
       "4                  1.0  2024-07-16   Unknown  United States          81.0  "
      ]
     },
     "execution_count": 100,
     "metadata": {},
     "output_type": "execute_result"
    }
   ],
   "source": [
    "import pandas as pd\n",
    "\n",
    "layoffs = pd.read_csv('layoffs.csv')\n",
    "\n",
    "layoffs.head()"
   ]
  },
  {
   "cell_type": "code",
   "execution_count": 101,
   "id": "5d8570b5",
   "metadata": {},
   "outputs": [
    {
     "name": "stdout",
     "output_type": "stream",
     "text": [
      "<class 'pandas.core.frame.DataFrame'>\n",
      "RangeIndex: 3708 entries, 0 to 3707\n",
      "Data columns (total 9 columns):\n",
      " #   Column               Non-Null Count  Dtype  \n",
      "---  ------               --------------  -----  \n",
      " 0   company              3708 non-null   object \n",
      " 1   location             3707 non-null   object \n",
      " 2   industry             3707 non-null   object \n",
      " 3   total_laid_off       2432 non-null   float64\n",
      " 4   percentage_laid_off  2380 non-null   float64\n",
      " 5   date                 3708 non-null   object \n",
      " 6   stage                3701 non-null   object \n",
      " 7   country              3708 non-null   object \n",
      " 8   funds_raised         3309 non-null   float64\n",
      "dtypes: float64(3), object(6)\n",
      "memory usage: 260.8+ KB\n"
     ]
    }
   ],
   "source": [
    "layoffs.info()"
   ]
  },
  {
   "cell_type": "code",
   "execution_count": 102,
   "id": "fb88d321",
   "metadata": {},
   "outputs": [
    {
     "data": {
      "application/vnd.microsoft.datawrangler.viewer.v0+json": {
       "columns": [
        {
         "name": "index",
         "rawType": "object",
         "type": "string"
        },
        {
         "name": "total_laid_off",
         "rawType": "float64",
         "type": "float"
        },
        {
         "name": "percentage_laid_off",
         "rawType": "float64",
         "type": "float"
        },
        {
         "name": "funds_raised",
         "rawType": "float64",
         "type": "float"
        }
       ],
       "ref": "9b8ca784-edec-46e4-8038-183148812382",
       "rows": [
        [
         "count",
         "2432.0",
         "2380.0",
         "3309.0"
        ],
        [
         "mean",
         "260.2142269736842",
         "0.2824233193277311",
         "798.0670883952856"
        ],
        [
         "std",
         "827.1926119045852",
         "0.28896632519697985",
         "4721.497071688897"
        ],
        [
         "min",
         "3.0",
         "0.0",
         "0.0"
        ],
        [
         "25%",
         "40.0",
         "0.1",
         "52.0"
        ],
        [
         "50%",
         "80.0",
         "0.17",
         "166.0"
        ],
        [
         "75%",
         "190.0",
         "0.3",
         "472.0"
        ],
        [
         "max",
         "14000.0",
         "1.0",
         "121900.0"
        ]
       ],
       "shape": {
        "columns": 3,
        "rows": 8
       }
      },
      "text/html": [
       "<div>\n",
       "<style scoped>\n",
       "    .dataframe tbody tr th:only-of-type {\n",
       "        vertical-align: middle;\n",
       "    }\n",
       "\n",
       "    .dataframe tbody tr th {\n",
       "        vertical-align: top;\n",
       "    }\n",
       "\n",
       "    .dataframe thead th {\n",
       "        text-align: right;\n",
       "    }\n",
       "</style>\n",
       "<table border=\"1\" class=\"dataframe\">\n",
       "  <thead>\n",
       "    <tr style=\"text-align: right;\">\n",
       "      <th></th>\n",
       "      <th>total_laid_off</th>\n",
       "      <th>percentage_laid_off</th>\n",
       "      <th>funds_raised</th>\n",
       "    </tr>\n",
       "  </thead>\n",
       "  <tbody>\n",
       "    <tr>\n",
       "      <th>count</th>\n",
       "      <td>2432.000000</td>\n",
       "      <td>2380.000000</td>\n",
       "      <td>3309.000000</td>\n",
       "    </tr>\n",
       "    <tr>\n",
       "      <th>mean</th>\n",
       "      <td>260.214227</td>\n",
       "      <td>0.282423</td>\n",
       "      <td>798.067088</td>\n",
       "    </tr>\n",
       "    <tr>\n",
       "      <th>std</th>\n",
       "      <td>827.192612</td>\n",
       "      <td>0.288966</td>\n",
       "      <td>4721.497072</td>\n",
       "    </tr>\n",
       "    <tr>\n",
       "      <th>min</th>\n",
       "      <td>3.000000</td>\n",
       "      <td>0.000000</td>\n",
       "      <td>0.000000</td>\n",
       "    </tr>\n",
       "    <tr>\n",
       "      <th>25%</th>\n",
       "      <td>40.000000</td>\n",
       "      <td>0.100000</td>\n",
       "      <td>52.000000</td>\n",
       "    </tr>\n",
       "    <tr>\n",
       "      <th>50%</th>\n",
       "      <td>80.000000</td>\n",
       "      <td>0.170000</td>\n",
       "      <td>166.000000</td>\n",
       "    </tr>\n",
       "    <tr>\n",
       "      <th>75%</th>\n",
       "      <td>190.000000</td>\n",
       "      <td>0.300000</td>\n",
       "      <td>472.000000</td>\n",
       "    </tr>\n",
       "    <tr>\n",
       "      <th>max</th>\n",
       "      <td>14000.000000</td>\n",
       "      <td>1.000000</td>\n",
       "      <td>121900.000000</td>\n",
       "    </tr>\n",
       "  </tbody>\n",
       "</table>\n",
       "</div>"
      ],
      "text/plain": [
       "       total_laid_off  percentage_laid_off   funds_raised\n",
       "count     2432.000000          2380.000000    3309.000000\n",
       "mean       260.214227             0.282423     798.067088\n",
       "std        827.192612             0.288966    4721.497072\n",
       "min          3.000000             0.000000       0.000000\n",
       "25%         40.000000             0.100000      52.000000\n",
       "50%         80.000000             0.170000     166.000000\n",
       "75%        190.000000             0.300000     472.000000\n",
       "max      14000.000000             1.000000  121900.000000"
      ]
     },
     "execution_count": 102,
     "metadata": {},
     "output_type": "execute_result"
    }
   ],
   "source": [
    "layoffs.describe()"
   ]
  },
  {
   "cell_type": "code",
   "execution_count": 103,
   "id": "b530b23a",
   "metadata": {},
   "outputs": [
    {
     "data": {
      "application/vnd.microsoft.datawrangler.viewer.v0+json": {
       "columns": [
        {
         "name": "index",
         "rawType": "object",
         "type": "string"
        },
        {
         "name": "0",
         "rawType": "int64",
         "type": "integer"
        }
       ],
       "ref": "e06f7dae-449b-4462-b1f8-fcd11b26976c",
       "rows": [
        [
         "company",
         "2631"
        ],
        [
         "location",
         "240"
        ],
        [
         "industry",
         "31"
        ],
        [
         "total_laid_off",
         "345"
        ],
        [
         "percentage_laid_off",
         "78"
        ],
        [
         "date",
         "855"
        ],
        [
         "stage",
         "16"
        ],
        [
         "country",
         "63"
        ],
        [
         "funds_raised",
         "736"
        ]
       ],
       "shape": {
        "columns": 1,
        "rows": 9
       }
      },
      "text/plain": [
       "company                2631\n",
       "location                240\n",
       "industry                 31\n",
       "total_laid_off          345\n",
       "percentage_laid_off      78\n",
       "date                    855\n",
       "stage                    16\n",
       "country                  63\n",
       "funds_raised            736\n",
       "dtype: int64"
      ]
     },
     "execution_count": 103,
     "metadata": {},
     "output_type": "execute_result"
    }
   ],
   "source": [
    "layoffs.nunique()"
   ]
  },
  {
   "cell_type": "code",
   "execution_count": null,
   "id": "0a3d3d8a",
   "metadata": {},
   "outputs": [
    {
     "data": {
      "text/html": [
       "\n",
       "        <iframe\n",
       "            width=\"100%\"\n",
       "            height=\"650\"\n",
       "            src=\"http://127.0.0.1:8050/\"\n",
       "            frameborder=\"0\"\n",
       "            allowfullscreen\n",
       "            \n",
       "        ></iframe>\n",
       "        "
      ],
      "text/plain": [
       "<IPython.lib.display.IFrame at 0x1fcee94b8c0>"
      ]
     },
     "metadata": {},
     "output_type": "display_data"
    }
   ],
   "source": [
    "# ------------------------------\n",
    "# 1. Exploratory Data Analysis \n",
    "# ------------------------------\n",
    "\n",
    "import warnings\n",
    "warnings.filterwarnings('ignore')\n",
    "\n",
    "import pandas as pd\n",
    "import numpy as np\n",
    "from sklearn.experimental import enable_iterative_imputer\n",
    "from sklearn.impute import IterativeImputer\n",
    "from sklearn.preprocessing import LabelEncoder\n",
    "import xgboost as xgb\n",
    "\n",
    "import plotly.graph_objects as go\n",
    "import plotly.express as px\n",
    "from dash import Dash, dcc, html\n",
    "\n",
    "# ------------------------------\n",
    "# 1. Data Preparation\n",
    "# ------------------------------\n",
    "# Convert 'date' column to datetime\n",
    "layoffs['date'] = pd.to_datetime(layoffs['date'], errors='coerce')\n",
    "layoffs['year'] = layoffs['date'].dt.year\n",
    "\n",
    "# Impute numeric columns\n",
    "numeric_cols = ['total_laid_off', 'percentage_laid_off', 'funds_raised']  \n",
    "num_imputer = IterativeImputer(estimator=xgb.XGBRegressor(), max_iter=10, random_state=42)\n",
    "layoffs[numeric_cols] = num_imputer.fit_transform(layoffs[numeric_cols])\n",
    "\n",
    "# Impute categorical columns\n",
    "cat_cols = ['location', 'industry', 'stage'] \n",
    "encoders = {}\n",
    "\n",
    "for col in cat_cols:\n",
    "    le = LabelEncoder()\n",
    "    non_null = layoffs[col][layoffs[col].notnull()]\n",
    "    le.fit(non_null)\n",
    "    layoffs[col] = layoffs[col].map(lambda x: le.transform([x])[0] if pd.notnull(x) else np.nan)\n",
    "    encoders[col] = le\n",
    "\n",
    "cat_imputer = IterativeImputer(estimator=xgb.XGBClassifier(use_label_encoder=False, eval_metric='mlogloss'),\n",
    "                               max_iter=10, random_state=42)\n",
    "layoffs[cat_cols] = cat_imputer.fit_transform(layoffs[cat_cols])\n",
    "\n",
    "for col in cat_cols:\n",
    "    le = encoders[col]\n",
    "    layoffs[col] = layoffs[col].round().astype(int)\n",
    "    layoffs[col] = layoffs[col].map(lambda x: le.inverse_transform([x])[0])\n",
    "\n",
    "# ------------------------------\n",
    "# 2. Prepare monthly aggregated data\n",
    "# ------------------------------\n",
    "monthly_data = layoffs.set_index('date').resample('ME').agg({\n",
    "    'total_laid_off': 'sum',\n",
    "    'percentage_laid_off': 'mean'\n",
    "}).reset_index()\n",
    "monthly_data['rolling_avg'] = monthly_data['total_laid_off'].rolling(window=3).mean()\n",
    "\n",
    "# ------------------------------\n",
    "# 3. Create plots\n",
    "# ------------------------------\n",
    "\n",
    "# Time-series figure\n",
    "ts_fig = go.Figure()\n",
    "ts_fig.add_trace(go.Scatter(\n",
    "    x=monthly_data['date'],\n",
    "    y=monthly_data['total_laid_off'],\n",
    "    mode='lines+markers',\n",
    "    name='Monthly Layoffs'\n",
    "))\n",
    "ts_fig.add_trace(go.Scatter(\n",
    "    x=monthly_data['date'],\n",
    "    y=monthly_data['rolling_avg'],\n",
    "    mode='lines+markers',\n",
    "    name='3-Month Rolling Avg',\n",
    "    line=dict(color='orange', width=3, dash='dash')\n",
    "))\n",
    "ts_fig.add_trace(go.Scatter(\n",
    "    x=monthly_data['date'],\n",
    "    y=monthly_data['percentage_laid_off'],\n",
    "    mode='lines+markers',\n",
    "    name='Average % Laid Off',\n",
    "    line=dict(color='green', width=3, dash='dot'),\n",
    "    yaxis='y2'\n",
    "))\n",
    "ts_fig.update_layout(\n",
    "    title='Monthly Layoffs, Rolling Average, and Average % Laid Off',\n",
    "    xaxis_title='Date',\n",
    "    yaxis=dict(title='Number of Employees Laid Off'),\n",
    "    yaxis2=dict(title='Average % Laid Off', overlaying='y', side='right'),\n",
    "    legend_title='Metrics',\n",
    "    height=500,\n",
    "    width=700\n",
    ")\n",
    "\n",
    "# Animated numeric distributions figures\n",
    "numeric_anim_figs = {}\n",
    "for col in numeric_cols:\n",
    "    anim_fig = px.histogram(\n",
    "        layoffs,\n",
    "        x=col,\n",
    "        animation_frame='year',\n",
    "        nbins=30,\n",
    "        range_x=[layoffs[col].min(), layoffs[col].max()],\n",
    "        title=f'Yearly Distribution of {col}',\n",
    "        labels={col: col},\n",
    "        opacity=0.75\n",
    "    )\n",
    "    anim_fig.update_layout(height=500, width=700, yaxis_title='Count')\n",
    "    numeric_anim_figs[col] = anim_fig\n",
    "\n",
    "# Categorical distributions with dropdown\n",
    "cat_fig = go.Figure()\n",
    "years = sorted(layoffs['year'].dropna().unique())\n",
    "for year in years:\n",
    "    filtered = layoffs[layoffs['year'] == year]\n",
    "    for col in cat_cols:\n",
    "        vc = filtered[col].value_counts().reset_index()\n",
    "        vc.columns = [col, 'count']\n",
    "        cat_fig.add_trace(go.Bar(\n",
    "            x=vc[col],\n",
    "            y=vc['count'],\n",
    "            name=col,\n",
    "            visible=(year == years[0])\n",
    "        ))\n",
    "\n",
    "# Prepare dropdown buttons\n",
    "buttons = []\n",
    "n_cols = len(cat_cols)\n",
    "for i, year in enumerate(years):\n",
    "    visible = [False] * len(years) * n_cols\n",
    "    for j in range(n_cols):\n",
    "        visible[i*n_cols + j] = True\n",
    "    buttons.append(dict(\n",
    "        label=str(year),\n",
    "        method='update',\n",
    "        args=[{'visible': visible},\n",
    "              {'title': f'Categorical Distributions for {year}'}]\n",
    "    ))\n",
    "\n",
    "cat_fig.update_layout(\n",
    "    updatemenus=[dict(\n",
    "        active=0,\n",
    "        buttons=buttons,\n",
    "        x=1.1,\n",
    "        y=1,\n",
    "        xanchor='right',\n",
    "        yanchor='top'\n",
    "    )],\n",
    "    title=f'Categorical Distributions for {years[0]}',\n",
    "    barmode='group',\n",
    "    height=500,\n",
    "    width=900\n",
    ")\n",
    "\n",
    "# ------------------------------\n",
    "# 4. Dash App\n",
    "# ------------------------------\n",
    "app = Dash(__name__)\n",
    "\n",
    "app.layout = html.Div([\n",
    "    html.H1(\"Layoffs Data Dashboard\", style={'textAlign': 'center'}),\n",
    "    dcc.Tabs([\n",
    "        dcc.Tab(label='Time Series', children=[\n",
    "            dcc.Graph(figure=ts_fig)\n",
    "        ]),\n",
    "        dcc.Tab(label='Numeric Distributions', children=[\n",
    "            dcc.Dropdown(\n",
    "                id='numeric-dropdown',\n",
    "                options=[{'label': col, 'value': col} for col in numeric_cols],\n",
    "                value=numeric_cols[0],\n",
    "                clearable=False\n",
    "            ),\n",
    "            dcc.Graph(id='numeric-graph', figure=numeric_anim_figs[numeric_cols[0]])\n",
    "        ]),\n",
    "        dcc.Tab(label='Categorical Distributions', children=[\n",
    "            dcc.Graph(figure=cat_fig)\n",
    "        ])\n",
    "    ])\n",
    "])\n",
    "\n",
    "# Callback for numeric distribution dropdown\n",
    "from dash.dependencies import Input, Output\n",
    "\n",
    "@app.callback(\n",
    "    Output('numeric-graph', 'figure'),\n",
    "    Input('numeric-dropdown', 'value')\n",
    ")\n",
    "def update_numeric_graph(selected_col):\n",
    "    return numeric_anim_figs[selected_col]\n",
    "\n",
    "# ------------------------------\n",
    "# 5. Run app\n",
    "# ------------------------------\n",
    "if __name__ == '__main__':\n",
    "    app.run(debug=True)\n"
   ]
  },
  {
   "cell_type": "code",
   "execution_count": null,
   "id": "861d90ab",
   "metadata": {},
   "outputs": [
    {
     "data": {
      "application/vnd.plotly.v1+json": {
       "config": {
        "plotlyServerURL": "https://plot.ly"
       },
       "data": [
        {
         "coloraxis": "coloraxis",
         "geo": "geo",
         "hovertemplate": "<b>%{hovertext}</b><br><br>country_code=%{location}<br>total_laid_off=%{z}<extra></extra>",
         "hovertext": [
          "Australia",
          "Brazil",
          "Bulgaria",
          "Canada",
          "China",
          "Czech Republic",
          "Denmark",
          "Estonia",
          "France",
          "Germany",
          "Hong Kong",
          "India",
          "Indonesia",
          "Ireland",
          "Israel",
          "Malaysia",
          "Mexico",
          "Myanmar",
          "Netherlands",
          "Nigeria",
          "Portugal",
          "Singapore",
          "South Africa",
          "Sweden",
          "Switzerland",
          "United Arab Emirates",
          "United Kingdom",
          "United States",
          "Uruguay",
          "Vietnam"
         ],
         "locations": [
          "AUS",
          "BRA",
          "BGR",
          "CAN",
          "CHN",
          "CZE",
          "DNK",
          "EST",
          "FRA",
          "DEU",
          "HKG",
          "IND",
          "IDN",
          "IRL",
          "ISR",
          "MYS",
          "MEX",
          "MMR",
          "NLD",
          "NGA",
          "PRT",
          "SGP",
          "ZAF",
          "SWE",
          "CHE",
          "ARE",
          "GBR",
          "USA",
          "URY",
          "VNM"
         ],
         "name": "",
         "type": "choropleth",
         "z": {
          "bdata": "AAAARJJ6Y0AAAIDI/W2zQAAAAAAAAF5AAACA1X0EoEAAAABEuKK0QAAAAABETF9AAAAAAAAAREAAAAAAAABfQAAAAAAfLldAAAAAIHrJh0AAAAAAAOCFQAAAAMrFqslAAADAbDE0uEAAAAAAAAA1QAAAANR7xHRAAAAAAAAASUAAAAAAAIBWQAAAAAAAAGlAAADA2ZYlskAAAACgxB6EQAAAAAAAwFxAAAAAWJqrpEAAAADg899fQAAAAAAAAFlAAAAAAAAAT0AAAAAD+gOmQAAAgA8n4KFAAAA0wupV8kAAAADA7V1VQAAAAOBV7jlA",
          "dtype": "f8"
         }
        }
       ],
       "layout": {
        "coloraxis": {
         "colorbar": {
          "title": {
           "text": "total_laid_off"
          }
         },
         "colorscale": [
          [
           0,
           "#0d0887"
          ],
          [
           0.1111111111111111,
           "#46039f"
          ],
          [
           0.2222222222222222,
           "#7201a8"
          ],
          [
           0.3333333333333333,
           "#9c179e"
          ],
          [
           0.4444444444444444,
           "#bd3786"
          ],
          [
           0.5555555555555556,
           "#d8576b"
          ],
          [
           0.6666666666666666,
           "#ed7953"
          ],
          [
           0.7777777777777778,
           "#fb9f3a"
          ],
          [
           0.8888888888888888,
           "#fdca26"
          ],
          [
           1,
           "#f0f921"
          ]
         ]
        },
        "geo": {
         "center": {},
         "domain": {
          "x": [
           0,
           1
          ],
          "y": [
           0,
           1
          ]
         }
        },
        "legend": {
         "tracegroupgap": 0
        },
        "template": {
         "data": {
          "bar": [
           {
            "error_x": {
             "color": "#2a3f5f"
            },
            "error_y": {
             "color": "#2a3f5f"
            },
            "marker": {
             "line": {
              "color": "#E5ECF6",
              "width": 0.5
             },
             "pattern": {
              "fillmode": "overlay",
              "size": 10,
              "solidity": 0.2
             }
            },
            "type": "bar"
           }
          ],
          "barpolar": [
           {
            "marker": {
             "line": {
              "color": "#E5ECF6",
              "width": 0.5
             },
             "pattern": {
              "fillmode": "overlay",
              "size": 10,
              "solidity": 0.2
             }
            },
            "type": "barpolar"
           }
          ],
          "carpet": [
           {
            "aaxis": {
             "endlinecolor": "#2a3f5f",
             "gridcolor": "white",
             "linecolor": "white",
             "minorgridcolor": "white",
             "startlinecolor": "#2a3f5f"
            },
            "baxis": {
             "endlinecolor": "#2a3f5f",
             "gridcolor": "white",
             "linecolor": "white",
             "minorgridcolor": "white",
             "startlinecolor": "#2a3f5f"
            },
            "type": "carpet"
           }
          ],
          "choropleth": [
           {
            "colorbar": {
             "outlinewidth": 0,
             "ticks": ""
            },
            "type": "choropleth"
           }
          ],
          "contour": [
           {
            "colorbar": {
             "outlinewidth": 0,
             "ticks": ""
            },
            "colorscale": [
             [
              0,
              "#0d0887"
             ],
             [
              0.1111111111111111,
              "#46039f"
             ],
             [
              0.2222222222222222,
              "#7201a8"
             ],
             [
              0.3333333333333333,
              "#9c179e"
             ],
             [
              0.4444444444444444,
              "#bd3786"
             ],
             [
              0.5555555555555556,
              "#d8576b"
             ],
             [
              0.6666666666666666,
              "#ed7953"
             ],
             [
              0.7777777777777778,
              "#fb9f3a"
             ],
             [
              0.8888888888888888,
              "#fdca26"
             ],
             [
              1,
              "#f0f921"
             ]
            ],
            "type": "contour"
           }
          ],
          "contourcarpet": [
           {
            "colorbar": {
             "outlinewidth": 0,
             "ticks": ""
            },
            "type": "contourcarpet"
           }
          ],
          "heatmap": [
           {
            "colorbar": {
             "outlinewidth": 0,
             "ticks": ""
            },
            "colorscale": [
             [
              0,
              "#0d0887"
             ],
             [
              0.1111111111111111,
              "#46039f"
             ],
             [
              0.2222222222222222,
              "#7201a8"
             ],
             [
              0.3333333333333333,
              "#9c179e"
             ],
             [
              0.4444444444444444,
              "#bd3786"
             ],
             [
              0.5555555555555556,
              "#d8576b"
             ],
             [
              0.6666666666666666,
              "#ed7953"
             ],
             [
              0.7777777777777778,
              "#fb9f3a"
             ],
             [
              0.8888888888888888,
              "#fdca26"
             ],
             [
              1,
              "#f0f921"
             ]
            ],
            "type": "heatmap"
           }
          ],
          "histogram": [
           {
            "marker": {
             "pattern": {
              "fillmode": "overlay",
              "size": 10,
              "solidity": 0.2
             }
            },
            "type": "histogram"
           }
          ],
          "histogram2d": [
           {
            "colorbar": {
             "outlinewidth": 0,
             "ticks": ""
            },
            "colorscale": [
             [
              0,
              "#0d0887"
             ],
             [
              0.1111111111111111,
              "#46039f"
             ],
             [
              0.2222222222222222,
              "#7201a8"
             ],
             [
              0.3333333333333333,
              "#9c179e"
             ],
             [
              0.4444444444444444,
              "#bd3786"
             ],
             [
              0.5555555555555556,
              "#d8576b"
             ],
             [
              0.6666666666666666,
              "#ed7953"
             ],
             [
              0.7777777777777778,
              "#fb9f3a"
             ],
             [
              0.8888888888888888,
              "#fdca26"
             ],
             [
              1,
              "#f0f921"
             ]
            ],
            "type": "histogram2d"
           }
          ],
          "histogram2dcontour": [
           {
            "colorbar": {
             "outlinewidth": 0,
             "ticks": ""
            },
            "colorscale": [
             [
              0,
              "#0d0887"
             ],
             [
              0.1111111111111111,
              "#46039f"
             ],
             [
              0.2222222222222222,
              "#7201a8"
             ],
             [
              0.3333333333333333,
              "#9c179e"
             ],
             [
              0.4444444444444444,
              "#bd3786"
             ],
             [
              0.5555555555555556,
              "#d8576b"
             ],
             [
              0.6666666666666666,
              "#ed7953"
             ],
             [
              0.7777777777777778,
              "#fb9f3a"
             ],
             [
              0.8888888888888888,
              "#fdca26"
             ],
             [
              1,
              "#f0f921"
             ]
            ],
            "type": "histogram2dcontour"
           }
          ],
          "mesh3d": [
           {
            "colorbar": {
             "outlinewidth": 0,
             "ticks": ""
            },
            "type": "mesh3d"
           }
          ],
          "parcoords": [
           {
            "line": {
             "colorbar": {
              "outlinewidth": 0,
              "ticks": ""
             }
            },
            "type": "parcoords"
           }
          ],
          "pie": [
           {
            "automargin": true,
            "type": "pie"
           }
          ],
          "scatter": [
           {
            "fillpattern": {
             "fillmode": "overlay",
             "size": 10,
             "solidity": 0.2
            },
            "type": "scatter"
           }
          ],
          "scatter3d": [
           {
            "line": {
             "colorbar": {
              "outlinewidth": 0,
              "ticks": ""
             }
            },
            "marker": {
             "colorbar": {
              "outlinewidth": 0,
              "ticks": ""
             }
            },
            "type": "scatter3d"
           }
          ],
          "scattercarpet": [
           {
            "marker": {
             "colorbar": {
              "outlinewidth": 0,
              "ticks": ""
             }
            },
            "type": "scattercarpet"
           }
          ],
          "scattergeo": [
           {
            "marker": {
             "colorbar": {
              "outlinewidth": 0,
              "ticks": ""
             }
            },
            "type": "scattergeo"
           }
          ],
          "scattergl": [
           {
            "marker": {
             "colorbar": {
              "outlinewidth": 0,
              "ticks": ""
             }
            },
            "type": "scattergl"
           }
          ],
          "scattermap": [
           {
            "marker": {
             "colorbar": {
              "outlinewidth": 0,
              "ticks": ""
             }
            },
            "type": "scattermap"
           }
          ],
          "scattermapbox": [
           {
            "marker": {
             "colorbar": {
              "outlinewidth": 0,
              "ticks": ""
             }
            },
            "type": "scattermapbox"
           }
          ],
          "scatterpolar": [
           {
            "marker": {
             "colorbar": {
              "outlinewidth": 0,
              "ticks": ""
             }
            },
            "type": "scatterpolar"
           }
          ],
          "scatterpolargl": [
           {
            "marker": {
             "colorbar": {
              "outlinewidth": 0,
              "ticks": ""
             }
            },
            "type": "scatterpolargl"
           }
          ],
          "scatterternary": [
           {
            "marker": {
             "colorbar": {
              "outlinewidth": 0,
              "ticks": ""
             }
            },
            "type": "scatterternary"
           }
          ],
          "surface": [
           {
            "colorbar": {
             "outlinewidth": 0,
             "ticks": ""
            },
            "colorscale": [
             [
              0,
              "#0d0887"
             ],
             [
              0.1111111111111111,
              "#46039f"
             ],
             [
              0.2222222222222222,
              "#7201a8"
             ],
             [
              0.3333333333333333,
              "#9c179e"
             ],
             [
              0.4444444444444444,
              "#bd3786"
             ],
             [
              0.5555555555555556,
              "#d8576b"
             ],
             [
              0.6666666666666666,
              "#ed7953"
             ],
             [
              0.7777777777777778,
              "#fb9f3a"
             ],
             [
              0.8888888888888888,
              "#fdca26"
             ],
             [
              1,
              "#f0f921"
             ]
            ],
            "type": "surface"
           }
          ],
          "table": [
           {
            "cells": {
             "fill": {
              "color": "#EBF0F8"
             },
             "line": {
              "color": "white"
             }
            },
            "header": {
             "fill": {
              "color": "#C8D4E3"
             },
             "line": {
              "color": "white"
             }
            },
            "type": "table"
           }
          ]
         },
         "layout": {
          "annotationdefaults": {
           "arrowcolor": "#2a3f5f",
           "arrowhead": 0,
           "arrowwidth": 1
          },
          "autotypenumbers": "strict",
          "coloraxis": {
           "colorbar": {
            "outlinewidth": 0,
            "ticks": ""
           }
          },
          "colorscale": {
           "diverging": [
            [
             0,
             "#8e0152"
            ],
            [
             0.1,
             "#c51b7d"
            ],
            [
             0.2,
             "#de77ae"
            ],
            [
             0.3,
             "#f1b6da"
            ],
            [
             0.4,
             "#fde0ef"
            ],
            [
             0.5,
             "#f7f7f7"
            ],
            [
             0.6,
             "#e6f5d0"
            ],
            [
             0.7,
             "#b8e186"
            ],
            [
             0.8,
             "#7fbc41"
            ],
            [
             0.9,
             "#4d9221"
            ],
            [
             1,
             "#276419"
            ]
           ],
           "sequential": [
            [
             0,
             "#0d0887"
            ],
            [
             0.1111111111111111,
             "#46039f"
            ],
            [
             0.2222222222222222,
             "#7201a8"
            ],
            [
             0.3333333333333333,
             "#9c179e"
            ],
            [
             0.4444444444444444,
             "#bd3786"
            ],
            [
             0.5555555555555556,
             "#d8576b"
            ],
            [
             0.6666666666666666,
             "#ed7953"
            ],
            [
             0.7777777777777778,
             "#fb9f3a"
            ],
            [
             0.8888888888888888,
             "#fdca26"
            ],
            [
             1,
             "#f0f921"
            ]
           ],
           "sequentialminus": [
            [
             0,
             "#0d0887"
            ],
            [
             0.1111111111111111,
             "#46039f"
            ],
            [
             0.2222222222222222,
             "#7201a8"
            ],
            [
             0.3333333333333333,
             "#9c179e"
            ],
            [
             0.4444444444444444,
             "#bd3786"
            ],
            [
             0.5555555555555556,
             "#d8576b"
            ],
            [
             0.6666666666666666,
             "#ed7953"
            ],
            [
             0.7777777777777778,
             "#fb9f3a"
            ],
            [
             0.8888888888888888,
             "#fdca26"
            ],
            [
             1,
             "#f0f921"
            ]
           ]
          },
          "colorway": [
           "#636efa",
           "#EF553B",
           "#00cc96",
           "#ab63fa",
           "#FFA15A",
           "#19d3f3",
           "#FF6692",
           "#B6E880",
           "#FF97FF",
           "#FECB52"
          ],
          "font": {
           "color": "#2a3f5f"
          },
          "geo": {
           "bgcolor": "white",
           "lakecolor": "white",
           "landcolor": "#E5ECF6",
           "showlakes": true,
           "showland": true,
           "subunitcolor": "white"
          },
          "hoverlabel": {
           "align": "left"
          },
          "hovermode": "closest",
          "mapbox": {
           "style": "light"
          },
          "paper_bgcolor": "white",
          "plot_bgcolor": "#E5ECF6",
          "polar": {
           "angularaxis": {
            "gridcolor": "white",
            "linecolor": "white",
            "ticks": ""
           },
           "bgcolor": "#E5ECF6",
           "radialaxis": {
            "gridcolor": "white",
            "linecolor": "white",
            "ticks": ""
           }
          },
          "scene": {
           "xaxis": {
            "backgroundcolor": "#E5ECF6",
            "gridcolor": "white",
            "gridwidth": 2,
            "linecolor": "white",
            "showbackground": true,
            "ticks": "",
            "zerolinecolor": "white"
           },
           "yaxis": {
            "backgroundcolor": "#E5ECF6",
            "gridcolor": "white",
            "gridwidth": 2,
            "linecolor": "white",
            "showbackground": true,
            "ticks": "",
            "zerolinecolor": "white"
           },
           "zaxis": {
            "backgroundcolor": "#E5ECF6",
            "gridcolor": "white",
            "gridwidth": 2,
            "linecolor": "white",
            "showbackground": true,
            "ticks": "",
            "zerolinecolor": "white"
           }
          },
          "shapedefaults": {
           "line": {
            "color": "#2a3f5f"
           }
          },
          "ternary": {
           "aaxis": {
            "gridcolor": "white",
            "linecolor": "white",
            "ticks": ""
           },
           "baxis": {
            "gridcolor": "white",
            "linecolor": "white",
            "ticks": ""
           },
           "bgcolor": "#E5ECF6",
           "caxis": {
            "gridcolor": "white",
            "linecolor": "white",
            "ticks": ""
           }
          },
          "title": {
           "x": 0.05
          },
          "xaxis": {
           "automargin": true,
           "gridcolor": "white",
           "linecolor": "white",
           "ticks": "",
           "title": {
            "standoff": 15
           },
           "zerolinecolor": "white",
           "zerolinewidth": 2
          },
          "yaxis": {
           "automargin": true,
           "gridcolor": "white",
           "linecolor": "white",
           "ticks": "",
           "title": {
            "standoff": 15
           },
           "zerolinecolor": "white",
           "zerolinewidth": 2
          }
         }
        },
        "title": {
         "text": "Total Layoffs by Country - 2020"
        },
        "updatemenus": [
         {
          "buttons": [
           {
            "args": [
             {
              "hovertext": [
               [
                "Australia",
                "Brazil",
                "Bulgaria",
                "Canada",
                "China",
                "Czech Republic",
                "Denmark",
                "Estonia",
                "France",
                "Germany",
                "Hong Kong",
                "India",
                "Indonesia",
                "Ireland",
                "Israel",
                "Malaysia",
                "Mexico",
                "Myanmar",
                "Netherlands",
                "Nigeria",
                "Portugal",
                "Singapore",
                "South Africa",
                "Sweden",
                "Switzerland",
                "United Arab Emirates",
                "United Kingdom",
                "United States",
                "Uruguay",
                "Vietnam"
               ]
              ],
              "locations": [
               [
                "AUS",
                "BRA",
                "BGR",
                "CAN",
                "CHN",
                "CZE",
                "DNK",
                "EST",
                "FRA",
                "DEU",
                "HKG",
                "IND",
                "IDN",
                "IRL",
                "ISR",
                "MYS",
                "MEX",
                "MMR",
                "NLD",
                "NGA",
                "PRT",
                "SGP",
                "ZAF",
                "SWE",
                "CHE",
                "ARE",
                "GBR",
                "USA",
                "URY",
                "VNM"
               ]
              ],
              "z": [
               [
                155.83035469055176,
                4973.991340637207,
                120,
                2050.2457695007324,
                5282.719787597656,
                125.191650390625,
                40,
                124,
                92.72064208984375,
                761.1846313476562,
                700,
                13141.545227050781,
                6196.193065643311,
                21,
                332.2802314758301,
                50,
                90,
                200,
                4645.589260101318,
                643.8460083007812,
                115,
                2645.8014526367188,
                127.49925994873047,
                100,
                62,
                2817.9883041381836,
                2288.0762901306152,
                75102.67241287231,
                85.46763610839844,
                25.930997848510742
               ]
              ]
             },
             {
              "title": "Total Layoffs by Country - 2020"
             }
            ],
            "label": "2020",
            "method": "update"
           },
           {
            "args": [
             {
              "hovertext": [
               [
                "Canada",
                "China",
                "Germany",
                "India",
                "Singapore",
                "United Kingdom",
                "United States"
               ]
              ],
              "locations": [
               [
                "CAN",
                "CHN",
                "DEU",
                "IND",
                "SGP",
                "GBR",
                "USA"
               ]
              ],
              "z": [
               [
                45,
                1800,
                387,
                4080,
                21,
                69.8853530883789,
                13018.093814849854
               ]
              ]
             },
             {
              "title": "Total Layoffs by Country - 2021"
             }
            ],
            "label": "2021",
            "method": "update"
           },
           {
            "args": [
             {
              "hovertext": [
               [
                "Argentina",
                "Australia",
                "Austria",
                "Bahrain",
                "Belgium",
                "Brazil",
                "Canada",
                "Chile",
                "China",
                "Colombia",
                "Denmark",
                "Egypt",
                "Estonia",
                "Finland",
                "France",
                "Germany",
                "Ghana",
                "Greece",
                "Hong Kong",
                "Hungary",
                "India",
                "Indonesia",
                "Ireland",
                "Israel",
                "Kenya",
                "Lithuania",
                "Luxembourg",
                "Malaysia",
                "Mexico",
                "Netherlands",
                "New Zealand",
                "Nigeria",
                "Norway",
                "Pakistan",
                "Peru",
                "Poland",
                "Romania",
                "Senegal",
                "Seychelles",
                "Singapore",
                "Spain",
                "Sweden",
                "Switzerland",
                "Thailand",
                "United Arab Emirates",
                "United Kingdom",
                "United States",
                "Vietnam"
               ]
              ],
              "locations": [
               [
                "ARG",
                "AUS",
                "AUT",
                "BHR",
                "BEL",
                "BRA",
                "CAN",
                "CHL",
                "CHN",
                "COL",
                "DNK",
                "EGY",
                "EST",
                "FIN",
                "FRA",
                "DEU",
                "GHA",
                "GRC",
                "HKG",
                "HUN",
                "IND",
                "IDN",
                "IRL",
                "ISR",
                "KEN",
                "LTU",
                "LUX",
                "MYS",
                "MEX",
                "NLD",
                "NZL",
                "NGA",
                "NOR",
                "PAK",
                "PER",
                "POL",
                "ROU",
                "SEN",
                "SYC",
                "SGP",
                "ESP",
                "SWE",
                "CHE",
                "THA",
                "ARE",
                "GBR",
                "USA",
                "VNM"
               ]
              ],
              "z": [
               [
                323,
                7725.507194519043,
                570,
                74.99674224853516,
                114.20079040527344,
                5494.9177803993225,
                5981.493064880371,
                170.36277770996094,
                8256.965194702148,
                309.1795654296875,
                200,
                181.06119918823242,
                143,
                250,
                507,
                5010.673416137695,
                1538.276611328125,
                121.27781677246094,
                1663.9278564453125,
                113.82476806640625,
                20346.519298553467,
                5704.777961730957,
                559.473388671875,
                3547.6231784820557,
                556.1265506744385,
                60,
                1624.9058647155762,
                198.25881958007812,
                277.15235137939453,
                6236.437999725342,
                82.70004653930664,
                2819.2928924560547,
                242.72517204284668,
                324.88069915771484,
                54.49065399169922,
                25,
                80,
                300,
                501.01458740234375,
                7840.479922294617,
                341.4747009277344,
                3741.515811920166,
                1538.276611328125,
                55,
                459,
                7671.616645812988,
                219735.14361286163,
                149.97293853759766
               ]
              ]
             },
             {
              "title": "Total Layoffs by Country - 2022"
             }
            ],
            "label": "2022",
            "method": "update"
           },
           {
            "args": [
             {
              "hovertext": [
               [
                "Argentina",
                "Australia",
                "Austria",
                "Brazil",
                "Canada",
                "Cayman Islands",
                "Chile",
                "China",
                "Colombia",
                "Czech Republic",
                "Estonia",
                "Finland",
                "France",
                "Germany",
                "Ghana",
                "Hong Kong",
                "India",
                "Indonesia",
                "Ireland",
                "Israel",
                "Italy",
                "Japan",
                "Kenya",
                "Luxembourg",
                "Mexico",
                "Netherlands",
                "New Zealand",
                "Nigeria",
                "Norway",
                "Philippines",
                "Poland",
                "Portugal",
                "Romania",
                "Saudi Arabia",
                "Singapore",
                "South Korea",
                "Spain",
                "Sweden",
                "Switzerland",
                "Ukraine",
                "United Kingdom",
                "United States"
               ]
              ],
              "locations": [
               [
                "ARG",
                "AUS",
                "AUT",
                "BRA",
                "CAN",
                "CYM",
                "CHL",
                "CHN",
                "COL",
                "CZE",
                "EST",
                "FIN",
                "FRA",
                "DEU",
                "GHA",
                "HKG",
                "IND",
                "IDN",
                "IRL",
                "ISR",
                "ITA",
                "JPN",
                "KEN",
                "LUX",
                "MEX",
                "NLD",
                "NZL",
                "NGA",
                "NOR",
                "PHL",
                "POL",
                "PRT",
                "ROU",
                "SAU",
                "SGP",
                "KOR",
                "ESP",
                "SWE",
                "CHE",
                "UKR",
                "GBR",
                "USA"
               ]
              ],
              "z": [
               [
                462.81048583984375,
                5770.735513687134,
                141.23145294189453,
                7117.817278385162,
                6563.573001861572,
                1000,
                484.07264709472656,
                7505.7375411987305,
                100,
                2185.746826171875,
                423.22996520996094,
                482.5552444458008,
                3846.623062133789,
                18318.695320129395,
                150,
                561.7417602539062,
                33363.302193045616,
                2088.1536903381348,
                257,
                6945.853271484375,
                232.4358367919922,
                165,
                886.2169723510742,
                90.22097778320312,
                479.9864501953125,
                8535.149953842163,
                3577.0520935058594,
                5340.8570766448975,
                250,
                44.765342712402344,
                746.0063781738281,
                39.93614959716797,
                140.0503807067871,
                340,
                6107.243928909302,
                507.7959976196289,
                780.2850723266602,
                13494.675537109375,
                1230.640151977539,
                50,
                23853.783233642578,
                308121.07543230057
               ]
              ]
             },
             {
              "title": "Total Layoffs by Country - 2023"
             }
            ],
            "label": "2023",
            "method": "update"
           },
           {
            "args": [
             {
              "hovertext": [
               [
                "Australia",
                "Austria",
                "Belgium",
                "Canada",
                "Cayman Islands",
                "Chile",
                "China",
                "Czech Republic",
                "Denmark",
                "Estonia",
                "Finland",
                "France",
                "Germany",
                "India",
                "Indonesia",
                "Ireland",
                "Israel",
                "Japan",
                "Kenya",
                "Lithuania",
                "Netherlands",
                "Nigeria",
                "Norway",
                "Pakistan",
                "Poland",
                "Singapore",
                "Spain",
                "Sweden",
                "United Kingdom",
                "United States",
                "Uruguay"
               ]
              ],
              "locations": [
               [
                "AUS",
                "AUT",
                "BEL",
                "CAN",
                "CYM",
                "CHL",
                "CHN",
                "CZE",
                "DNK",
                "EST",
                "FIN",
                "FRA",
                "DEU",
                "IND",
                "IDN",
                "IRL",
                "ISR",
                "JPN",
                "KEN",
                "LTU",
                "NLD",
                "NGA",
                "NOR",
                "PAK",
                "POL",
                "SGP",
                "ESP",
                "SWE",
                "GBR",
                "USA",
                "URY"
               ]
              ],
              "z": [
               [
                60,
                100,
                50,
                4133.379901885986,
                60,
                200,
                58.98056411743164,
                316,
                79,
                13,
                141.7954864501953,
                1678.276611328125,
                13082.724914550781,
                9537.686126708984,
                928.4424133300781,
                335,
                4476.977615356445,
                6560.2735595703125,
                1060,
                1649.2492294311523,
                1628.276611328125,
                2271.584442138672,
                215,
                87.52156066894531,
                250,
                2103.522373199463,
                54,
                396.1650619506836,
                6242.344074249268,
                126262.22585487366,
                104
               ]
              ]
             },
             {
              "title": "Total Layoffs by Country - 2024"
             }
            ],
            "label": "2024",
            "method": "update"
           }
          ],
          "x": 1.1,
          "xanchor": "right",
          "y": 1,
          "yanchor": "top"
         }
        ]
       }
      }
     },
     "metadata": {},
     "output_type": "display_data"
    }
   ],
   "source": [
    "# ------------------------------\n",
    "# Exploratory Data Analysis\n",
    "# ------------------------------\n",
    "\n",
    "import plotly.express as px\n",
    "import pycountry\n",
    "import pandas as pd\n",
    "\n",
    "# Ensure 'year' column exists\n",
    "layoffs['year'] = layoffs['date'].dt.year\n",
    "\n",
    "# Function to get ISO-3 country codes\n",
    "def get_country_code(name):\n",
    "    try:\n",
    "        country = pycountry.countries.lookup(name)\n",
    "        return country.alpha_3\n",
    "    except LookupError:\n",
    "        return None\n",
    "\n",
    "layoffs['country_code'] = layoffs['country'].apply(get_country_code)\n",
    "\n",
    "# Drop rows without valid country codes\n",
    "layoffs_clean = layoffs.dropna(subset=['country_code'])\n",
    "\n",
    "# Aggregate data by year and country\n",
    "agg_df = layoffs_clean.groupby(['year', 'country', 'country_code']).agg({\n",
    "    'total_laid_off': 'sum'\n",
    "}).reset_index()\n",
    "\n",
    "# Create choropleth with year dropdown\n",
    "years = sorted(agg_df['year'].unique())\n",
    "fig = px.choropleth(\n",
    "    agg_df[agg_df['year'] == years[0]],\n",
    "    locations='country_code',\n",
    "    color='total_laid_off',\n",
    "    hover_name='country',\n",
    "    color_continuous_scale=px.colors.sequential.Plasma,\n",
    "    title=f'Total Layoffs by Country - {years[0]}'\n",
    ")\n",
    "\n",
    "# Add dropdown buttons for each year\n",
    "buttons = []\n",
    "for year in years:\n",
    "    visible = agg_df['year'] == year\n",
    "    buttons.append(dict(\n",
    "        label=str(year),\n",
    "        method='update',\n",
    "        args=[{'z': [agg_df[visible]['total_laid_off']],\n",
    "               'locations': [agg_df[visible]['country_code']],\n",
    "               'hovertext': [agg_df[visible]['country']]},\n",
    "              {'title': f'Total Layoffs by Country - {year}'}]\n",
    "    ))\n",
    "\n",
    "fig.update_layout(\n",
    "    updatemenus=[dict(\n",
    "        buttons=buttons,\n",
    "        x=1.1,\n",
    "        y=1,\n",
    "        xanchor='right',\n",
    "        yanchor='top'\n",
    "    )]\n",
    ")\n",
    "\n",
    "fig.show()\n"
   ]
  },
  {
   "cell_type": "code",
   "execution_count": 106,
   "id": "ffb16e3b",
   "metadata": {},
   "outputs": [
    {
     "data": {
      "application/vnd.plotly.v1+json": {
       "config": {
        "plotlyServerURL": "https://plot.ly"
       },
       "data": [
        {
         "coloraxis": "coloraxis",
         "hovertemplate": "x: %{x}<br>y: %{y}<br>color: %{z}<extra></extra>",
         "name": "0",
         "texttemplate": "%{z}",
         "type": "heatmap",
         "x": [
          "funds_raised",
          "total_laid_off",
          "percentage_laid_off"
         ],
         "xaxis": "x",
         "y": [
          "funds_raised",
          "total_laid_off",
          "percentage_laid_off"
         ],
         "yaxis": "y",
         "z": {
          "bdata": "AAAAAAAA8D+Fnd6BtX3LP/69QzFMOba/hZ3egbV9yz8AAAAAAADwP+hQ/iTf2I4//r1DMUw5tr/oUP4k39iOPwAAAAAAAPA/",
          "dtype": "f8",
          "shape": "3, 3"
         }
        }
       ],
       "layout": {
        "coloraxis": {
         "colorscale": [
          [
           0,
           "#440154"
          ],
          [
           0.1111111111111111,
           "#482878"
          ],
          [
           0.2222222222222222,
           "#3e4989"
          ],
          [
           0.3333333333333333,
           "#31688e"
          ],
          [
           0.4444444444444444,
           "#26828e"
          ],
          [
           0.5555555555555556,
           "#1f9e89"
          ],
          [
           0.6666666666666666,
           "#35b779"
          ],
          [
           0.7777777777777778,
           "#6ece58"
          ],
          [
           0.8888888888888888,
           "#b5de2b"
          ],
          [
           1,
           "#fde725"
          ]
         ]
        },
        "template": {
         "data": {
          "bar": [
           {
            "error_x": {
             "color": "#2a3f5f"
            },
            "error_y": {
             "color": "#2a3f5f"
            },
            "marker": {
             "line": {
              "color": "#E5ECF6",
              "width": 0.5
             },
             "pattern": {
              "fillmode": "overlay",
              "size": 10,
              "solidity": 0.2
             }
            },
            "type": "bar"
           }
          ],
          "barpolar": [
           {
            "marker": {
             "line": {
              "color": "#E5ECF6",
              "width": 0.5
             },
             "pattern": {
              "fillmode": "overlay",
              "size": 10,
              "solidity": 0.2
             }
            },
            "type": "barpolar"
           }
          ],
          "carpet": [
           {
            "aaxis": {
             "endlinecolor": "#2a3f5f",
             "gridcolor": "white",
             "linecolor": "white",
             "minorgridcolor": "white",
             "startlinecolor": "#2a3f5f"
            },
            "baxis": {
             "endlinecolor": "#2a3f5f",
             "gridcolor": "white",
             "linecolor": "white",
             "minorgridcolor": "white",
             "startlinecolor": "#2a3f5f"
            },
            "type": "carpet"
           }
          ],
          "choropleth": [
           {
            "colorbar": {
             "outlinewidth": 0,
             "ticks": ""
            },
            "type": "choropleth"
           }
          ],
          "contour": [
           {
            "colorbar": {
             "outlinewidth": 0,
             "ticks": ""
            },
            "colorscale": [
             [
              0,
              "#0d0887"
             ],
             [
              0.1111111111111111,
              "#46039f"
             ],
             [
              0.2222222222222222,
              "#7201a8"
             ],
             [
              0.3333333333333333,
              "#9c179e"
             ],
             [
              0.4444444444444444,
              "#bd3786"
             ],
             [
              0.5555555555555556,
              "#d8576b"
             ],
             [
              0.6666666666666666,
              "#ed7953"
             ],
             [
              0.7777777777777778,
              "#fb9f3a"
             ],
             [
              0.8888888888888888,
              "#fdca26"
             ],
             [
              1,
              "#f0f921"
             ]
            ],
            "type": "contour"
           }
          ],
          "contourcarpet": [
           {
            "colorbar": {
             "outlinewidth": 0,
             "ticks": ""
            },
            "type": "contourcarpet"
           }
          ],
          "heatmap": [
           {
            "colorbar": {
             "outlinewidth": 0,
             "ticks": ""
            },
            "colorscale": [
             [
              0,
              "#0d0887"
             ],
             [
              0.1111111111111111,
              "#46039f"
             ],
             [
              0.2222222222222222,
              "#7201a8"
             ],
             [
              0.3333333333333333,
              "#9c179e"
             ],
             [
              0.4444444444444444,
              "#bd3786"
             ],
             [
              0.5555555555555556,
              "#d8576b"
             ],
             [
              0.6666666666666666,
              "#ed7953"
             ],
             [
              0.7777777777777778,
              "#fb9f3a"
             ],
             [
              0.8888888888888888,
              "#fdca26"
             ],
             [
              1,
              "#f0f921"
             ]
            ],
            "type": "heatmap"
           }
          ],
          "histogram": [
           {
            "marker": {
             "pattern": {
              "fillmode": "overlay",
              "size": 10,
              "solidity": 0.2
             }
            },
            "type": "histogram"
           }
          ],
          "histogram2d": [
           {
            "colorbar": {
             "outlinewidth": 0,
             "ticks": ""
            },
            "colorscale": [
             [
              0,
              "#0d0887"
             ],
             [
              0.1111111111111111,
              "#46039f"
             ],
             [
              0.2222222222222222,
              "#7201a8"
             ],
             [
              0.3333333333333333,
              "#9c179e"
             ],
             [
              0.4444444444444444,
              "#bd3786"
             ],
             [
              0.5555555555555556,
              "#d8576b"
             ],
             [
              0.6666666666666666,
              "#ed7953"
             ],
             [
              0.7777777777777778,
              "#fb9f3a"
             ],
             [
              0.8888888888888888,
              "#fdca26"
             ],
             [
              1,
              "#f0f921"
             ]
            ],
            "type": "histogram2d"
           }
          ],
          "histogram2dcontour": [
           {
            "colorbar": {
             "outlinewidth": 0,
             "ticks": ""
            },
            "colorscale": [
             [
              0,
              "#0d0887"
             ],
             [
              0.1111111111111111,
              "#46039f"
             ],
             [
              0.2222222222222222,
              "#7201a8"
             ],
             [
              0.3333333333333333,
              "#9c179e"
             ],
             [
              0.4444444444444444,
              "#bd3786"
             ],
             [
              0.5555555555555556,
              "#d8576b"
             ],
             [
              0.6666666666666666,
              "#ed7953"
             ],
             [
              0.7777777777777778,
              "#fb9f3a"
             ],
             [
              0.8888888888888888,
              "#fdca26"
             ],
             [
              1,
              "#f0f921"
             ]
            ],
            "type": "histogram2dcontour"
           }
          ],
          "mesh3d": [
           {
            "colorbar": {
             "outlinewidth": 0,
             "ticks": ""
            },
            "type": "mesh3d"
           }
          ],
          "parcoords": [
           {
            "line": {
             "colorbar": {
              "outlinewidth": 0,
              "ticks": ""
             }
            },
            "type": "parcoords"
           }
          ],
          "pie": [
           {
            "automargin": true,
            "type": "pie"
           }
          ],
          "scatter": [
           {
            "fillpattern": {
             "fillmode": "overlay",
             "size": 10,
             "solidity": 0.2
            },
            "type": "scatter"
           }
          ],
          "scatter3d": [
           {
            "line": {
             "colorbar": {
              "outlinewidth": 0,
              "ticks": ""
             }
            },
            "marker": {
             "colorbar": {
              "outlinewidth": 0,
              "ticks": ""
             }
            },
            "type": "scatter3d"
           }
          ],
          "scattercarpet": [
           {
            "marker": {
             "colorbar": {
              "outlinewidth": 0,
              "ticks": ""
             }
            },
            "type": "scattercarpet"
           }
          ],
          "scattergeo": [
           {
            "marker": {
             "colorbar": {
              "outlinewidth": 0,
              "ticks": ""
             }
            },
            "type": "scattergeo"
           }
          ],
          "scattergl": [
           {
            "marker": {
             "colorbar": {
              "outlinewidth": 0,
              "ticks": ""
             }
            },
            "type": "scattergl"
           }
          ],
          "scattermap": [
           {
            "marker": {
             "colorbar": {
              "outlinewidth": 0,
              "ticks": ""
             }
            },
            "type": "scattermap"
           }
          ],
          "scattermapbox": [
           {
            "marker": {
             "colorbar": {
              "outlinewidth": 0,
              "ticks": ""
             }
            },
            "type": "scattermapbox"
           }
          ],
          "scatterpolar": [
           {
            "marker": {
             "colorbar": {
              "outlinewidth": 0,
              "ticks": ""
             }
            },
            "type": "scatterpolar"
           }
          ],
          "scatterpolargl": [
           {
            "marker": {
             "colorbar": {
              "outlinewidth": 0,
              "ticks": ""
             }
            },
            "type": "scatterpolargl"
           }
          ],
          "scatterternary": [
           {
            "marker": {
             "colorbar": {
              "outlinewidth": 0,
              "ticks": ""
             }
            },
            "type": "scatterternary"
           }
          ],
          "surface": [
           {
            "colorbar": {
             "outlinewidth": 0,
             "ticks": ""
            },
            "colorscale": [
             [
              0,
              "#0d0887"
             ],
             [
              0.1111111111111111,
              "#46039f"
             ],
             [
              0.2222222222222222,
              "#7201a8"
             ],
             [
              0.3333333333333333,
              "#9c179e"
             ],
             [
              0.4444444444444444,
              "#bd3786"
             ],
             [
              0.5555555555555556,
              "#d8576b"
             ],
             [
              0.6666666666666666,
              "#ed7953"
             ],
             [
              0.7777777777777778,
              "#fb9f3a"
             ],
             [
              0.8888888888888888,
              "#fdca26"
             ],
             [
              1,
              "#f0f921"
             ]
            ],
            "type": "surface"
           }
          ],
          "table": [
           {
            "cells": {
             "fill": {
              "color": "#EBF0F8"
             },
             "line": {
              "color": "white"
             }
            },
            "header": {
             "fill": {
              "color": "#C8D4E3"
             },
             "line": {
              "color": "white"
             }
            },
            "type": "table"
           }
          ]
         },
         "layout": {
          "annotationdefaults": {
           "arrowcolor": "#2a3f5f",
           "arrowhead": 0,
           "arrowwidth": 1
          },
          "autotypenumbers": "strict",
          "coloraxis": {
           "colorbar": {
            "outlinewidth": 0,
            "ticks": ""
           }
          },
          "colorscale": {
           "diverging": [
            [
             0,
             "#8e0152"
            ],
            [
             0.1,
             "#c51b7d"
            ],
            [
             0.2,
             "#de77ae"
            ],
            [
             0.3,
             "#f1b6da"
            ],
            [
             0.4,
             "#fde0ef"
            ],
            [
             0.5,
             "#f7f7f7"
            ],
            [
             0.6,
             "#e6f5d0"
            ],
            [
             0.7,
             "#b8e186"
            ],
            [
             0.8,
             "#7fbc41"
            ],
            [
             0.9,
             "#4d9221"
            ],
            [
             1,
             "#276419"
            ]
           ],
           "sequential": [
            [
             0,
             "#0d0887"
            ],
            [
             0.1111111111111111,
             "#46039f"
            ],
            [
             0.2222222222222222,
             "#7201a8"
            ],
            [
             0.3333333333333333,
             "#9c179e"
            ],
            [
             0.4444444444444444,
             "#bd3786"
            ],
            [
             0.5555555555555556,
             "#d8576b"
            ],
            [
             0.6666666666666666,
             "#ed7953"
            ],
            [
             0.7777777777777778,
             "#fb9f3a"
            ],
            [
             0.8888888888888888,
             "#fdca26"
            ],
            [
             1,
             "#f0f921"
            ]
           ],
           "sequentialminus": [
            [
             0,
             "#0d0887"
            ],
            [
             0.1111111111111111,
             "#46039f"
            ],
            [
             0.2222222222222222,
             "#7201a8"
            ],
            [
             0.3333333333333333,
             "#9c179e"
            ],
            [
             0.4444444444444444,
             "#bd3786"
            ],
            [
             0.5555555555555556,
             "#d8576b"
            ],
            [
             0.6666666666666666,
             "#ed7953"
            ],
            [
             0.7777777777777778,
             "#fb9f3a"
            ],
            [
             0.8888888888888888,
             "#fdca26"
            ],
            [
             1,
             "#f0f921"
            ]
           ]
          },
          "colorway": [
           "#636efa",
           "#EF553B",
           "#00cc96",
           "#ab63fa",
           "#FFA15A",
           "#19d3f3",
           "#FF6692",
           "#B6E880",
           "#FF97FF",
           "#FECB52"
          ],
          "font": {
           "color": "#2a3f5f"
          },
          "geo": {
           "bgcolor": "white",
           "lakecolor": "white",
           "landcolor": "#E5ECF6",
           "showlakes": true,
           "showland": true,
           "subunitcolor": "white"
          },
          "hoverlabel": {
           "align": "left"
          },
          "hovermode": "closest",
          "mapbox": {
           "style": "light"
          },
          "paper_bgcolor": "white",
          "plot_bgcolor": "#E5ECF6",
          "polar": {
           "angularaxis": {
            "gridcolor": "white",
            "linecolor": "white",
            "ticks": ""
           },
           "bgcolor": "#E5ECF6",
           "radialaxis": {
            "gridcolor": "white",
            "linecolor": "white",
            "ticks": ""
           }
          },
          "scene": {
           "xaxis": {
            "backgroundcolor": "#E5ECF6",
            "gridcolor": "white",
            "gridwidth": 2,
            "linecolor": "white",
            "showbackground": true,
            "ticks": "",
            "zerolinecolor": "white"
           },
           "yaxis": {
            "backgroundcolor": "#E5ECF6",
            "gridcolor": "white",
            "gridwidth": 2,
            "linecolor": "white",
            "showbackground": true,
            "ticks": "",
            "zerolinecolor": "white"
           },
           "zaxis": {
            "backgroundcolor": "#E5ECF6",
            "gridcolor": "white",
            "gridwidth": 2,
            "linecolor": "white",
            "showbackground": true,
            "ticks": "",
            "zerolinecolor": "white"
           }
          },
          "shapedefaults": {
           "line": {
            "color": "#2a3f5f"
           }
          },
          "ternary": {
           "aaxis": {
            "gridcolor": "white",
            "linecolor": "white",
            "ticks": ""
           },
           "baxis": {
            "gridcolor": "white",
            "linecolor": "white",
            "ticks": ""
           },
           "bgcolor": "#E5ECF6",
           "caxis": {
            "gridcolor": "white",
            "linecolor": "white",
            "ticks": ""
           }
          },
          "title": {
           "x": 0.05
          },
          "xaxis": {
           "automargin": true,
           "gridcolor": "white",
           "linecolor": "white",
           "ticks": "",
           "title": {
            "standoff": 15
           },
           "zerolinecolor": "white",
           "zerolinewidth": 2
          },
          "yaxis": {
           "automargin": true,
           "gridcolor": "white",
           "linecolor": "white",
           "ticks": "",
           "title": {
            "standoff": 15
           },
           "zerolinecolor": "white",
           "zerolinewidth": 2
          }
         }
        },
        "title": {
         "text": "Correlation between Funds Raised and Total Laid Off"
        },
        "xaxis": {
         "anchor": "y",
         "constrain": "domain",
         "domain": [
          0,
          1
         ],
         "scaleanchor": "y"
        },
        "yaxis": {
         "anchor": "x",
         "autorange": "reversed",
         "constrain": "domain",
         "domain": [
          0,
          1
         ]
        }
       }
      }
     },
     "metadata": {},
     "output_type": "display_data"
    },
    {
     "name": "stdout",
     "output_type": "stream",
     "text": [
      "Correlation between funds raised and total laid off: 0.21\n"
     ]
    }
   ],
   "source": [
    "# Comparison between funding raised and layoffs over time\n",
    "import plotly.graph_objects as go\n",
    "import pandas as pd\n",
    "import numpy as np\n",
    "import plotly.express as px\n",
    "from dash import Dash, dcc, html\n",
    "\n",
    "correlation = layoffs[['funds_raised', 'total_laid_off', 'percentage_laid_off']].corr().iloc[0,1]\n",
    "heatmap_fig = px.imshow(\n",
    "    layoffs[['funds_raised', 'total_laid_off', 'percentage_laid_off']].corr(),\n",
    "    text_auto=True,\n",
    "    color_continuous_scale='Viridis',\n",
    "    title='Correlation between Funds Raised and Total Laid Off'\n",
    ")\n",
    "heatmap_fig.show()\n",
    "\n",
    "print(f\"Correlation between funds raised and total laid off: {correlation:.2f}\")\n",
    "\n"
   ]
  },
  {
   "cell_type": "code",
   "execution_count": null,
   "id": "b52688b5",
   "metadata": {},
   "outputs": [
    {
     "data": {
      "text/html": [
       "\n",
       "        <iframe\n",
       "            width=\"100%\"\n",
       "            height=\"650\"\n",
       "            src=\"http://127.0.0.1:8050/\"\n",
       "            frameborder=\"0\"\n",
       "            allowfullscreen\n",
       "            \n",
       "        ></iframe>\n",
       "        "
      ],
      "text/plain": [
       "<IPython.lib.display.IFrame at 0x1fcedacfb60>"
      ]
     },
     "metadata": {},
     "output_type": "display_data"
    }
   ],
   "source": [
    "# ============================================================\n",
    "# Clustering Companies Based on Risk of Layoffs\n",
    "# ============================================================\n",
    "\n",
    "\n",
    "import warnings\n",
    "warnings.filterwarnings('ignore')\n",
    "\n",
    "import pandas as pd\n",
    "from sklearn.preprocessing import StandardScaler\n",
    "from sklearn.cluster import KMeans\n",
    "from sklearn.decomposition import PCA\n",
    "\n",
    "import dash\n",
    "from dash import dcc, html, dash_table\n",
    "from dash.dependencies import Input, Output\n",
    "import plotly.express as px\n",
    "\n",
    "# -------------------------------\n",
    "# 1. Data Preparation\n",
    "# -------------------------------\n",
    "layoffs_cluster = layoffs.copy()\n",
    "layoffs_cluster = layoffs_cluster.dropna(subset=[\n",
    "    'total_laid_off', 'percentage_laid_off', 'funds_raised', 'stage', 'industry', 'location'\n",
    "])\n",
    "layoffs_cluster = layoffs_cluster[['company', 'total_laid_off', 'percentage_laid_off',\n",
    "                                   'funds_raised', 'stage', 'industry', 'location']]\n",
    "\n",
    "# One-hot encode categorical variables\n",
    "layoffs_encoded = pd.get_dummies(layoffs_cluster.drop('company', axis=1),\n",
    "                                 columns=['stage', 'industry', 'location'])\n",
    "\n",
    "# Standardize numeric features\n",
    "scaler = StandardScaler()\n",
    "layoffs_encoded[['total_laid_off', 'percentage_laid_off', 'funds_raised']] = scaler.fit_transform(\n",
    "    layoffs_encoded[['total_laid_off', 'percentage_laid_off', 'funds_raised']]\n",
    ")\n",
    "\n",
    "# -------------------------------\n",
    "# 2. KMeans Clustering\n",
    "# -------------------------------\n",
    "optimal_k = 5\n",
    "kmeans = KMeans(n_clusters=optimal_k, random_state=42)\n",
    "layoffs_encoded['cluster'] = kmeans.fit_predict(layoffs_encoded)\n",
    "layoffs_cluster['cluster'] = layoffs_encoded['cluster']\n",
    "\n",
    "# -------------------------------\n",
    "# 3. PCA for 2D Visualization\n",
    "# -------------------------------\n",
    "pca = PCA(n_components=2)\n",
    "components = pca.fit_transform(layoffs_encoded.drop('cluster', axis=1))\n",
    "\n",
    "pca_df = pd.DataFrame(data=components, columns=['PC1', 'PC2'])\n",
    "pca_df['cluster'] = layoffs_cluster['cluster'].astype(str)\n",
    "pca_df['company'] = layoffs_cluster['company']\n",
    "pca_df['industry'] = layoffs_cluster['industry']\n",
    "pca_df['stage'] = layoffs_cluster['stage']\n",
    "pca_df['location'] = layoffs_cluster['location']\n",
    "pca_df['total_laid_off'] = layoffs_cluster['total_laid_off']\n",
    "pca_df['percentage_laid_off'] = layoffs_cluster['percentage_laid_off']\n",
    "pca_df['funds_raised'] = layoffs_cluster['funds_raised']\n",
    "\n",
    "# -------------------------------\n",
    "# 4. Build Dash App\n",
    "# -------------------------------\n",
    "app = dash.Dash(__name__)\n",
    "\n",
    "industry_options = [{'label': ind, 'value': ind} for ind in sorted(pca_df['industry'].unique())]\n",
    "stage_options = [{'label': st, 'value': st} for st in sorted(pca_df['stage'].unique())]\n",
    "location_options = [{'label': loc, 'value': loc} for loc in sorted(pca_df['location'].unique())]\n",
    "\n",
    "app.layout = html.Div([\n",
    "    html.H1(\"Tech Layoffs Cluster Dashboard\", style={'textAlign': 'center'}),\n",
    "    html.Div([\n",
    "        html.Label(\"Filter by Industry:\"),\n",
    "        dcc.Dropdown(id='industry-dropdown', options=industry_options, multi=True, placeholder=\"Select industry\"),\n",
    "        html.Label(\"Filter by Stage:\"),\n",
    "        dcc.Dropdown(id='stage-dropdown', options=stage_options, multi=True, placeholder=\"Select company stage\"),\n",
    "        html.Label(\"Filter by Location:\"),\n",
    "        dcc.Dropdown(id='location-dropdown', options=location_options, multi=True, placeholder=\"Select location\"),\n",
    "    ], style={'width': '25%', 'display': 'inline-block', 'verticalAlign': 'top', 'padding': '20px'}),\n",
    "    html.Div([\n",
    "        dcc.Graph(id='cluster-graph'),\n",
    "        html.H3(\"Cluster Summary\"),\n",
    "        html.Div(id='cluster-text-summary', style={'marginBottom': '10px', 'fontStyle': 'italic'}),\n",
    "        dash_table.DataTable(\n",
    "            id='cluster-summary',\n",
    "            columns=[\n",
    "                {\"name\": \"Cluster\", \"id\": \"cluster\"},\n",
    "                {\"name\": \"Avg Total Laid Off\", \"id\": \"avg_total_laid_off\"},\n",
    "                {\"name\": \"Avg % Laid Off\", \"id\": \"avg_percentage_laid_off\"},\n",
    "                {\"name\": \"Avg Funds Raised\", \"id\": \"avg_funds_raised\"}\n",
    "            ],\n",
    "            style_table={'overflowX': 'auto'},\n",
    "            style_cell={'textAlign': 'center'},\n",
    "            style_header={'fontWeight': 'bold'},\n",
    "        ),\n",
    "        html.Br(),\n",
    "        html.Button(\"Download Cluster Summary\", id=\"btn-download\", n_clicks=0),\n",
    "        dcc.Download(id=\"download-cluster-summary\")\n",
    "    ], style={'width': '70%', 'display': 'inline-block'})\n",
    "])\n",
    "\n",
    "# -------------------------------\n",
    "# 5. Callbacks\n",
    "# -------------------------------\n",
    "@app.callback(\n",
    "    [Output('cluster-graph', 'figure'),\n",
    "     Output('cluster-summary', 'data'),\n",
    "     Output('cluster-text-summary', 'children'),\n",
    "     Output('download-cluster-summary', 'data')],\n",
    "    [Input('industry-dropdown', 'value'),\n",
    "     Input('stage-dropdown', 'value'),\n",
    "     Input('location-dropdown', 'value'),\n",
    "     Input('btn-download', 'n_clicks')],\n",
    "    prevent_initial_call=False\n",
    ")\n",
    "def update_graph(selected_industries, selected_stages, selected_locations, n_clicks):\n",
    "    filtered_df = pca_df.copy()\n",
    "    if selected_industries:\n",
    "        filtered_df = filtered_df[filtered_df['industry'].isin(selected_industries)]\n",
    "    if selected_stages:\n",
    "        filtered_df = filtered_df[filtered_df['stage'].isin(selected_stages)]\n",
    "    if selected_locations:\n",
    "        filtered_df = filtered_df[filtered_df['location'].isin(selected_locations)]\n",
    "\n",
    "    # Scatter plot\n",
    "    fig = px.scatter(\n",
    "        filtered_df,\n",
    "        x='PC1', y='PC2',\n",
    "        color='cluster',\n",
    "        hover_data=['company', 'industry', 'stage', 'location'],\n",
    "        title='PCA Visualization of Layoffs Clusters'\n",
    "    )\n",
    "    fig.update_layout(height=500, width=700)\n",
    "\n",
    "    # Cluster summary table\n",
    "    summary = (\n",
    "        filtered_df.groupby('cluster')\n",
    "        .agg(\n",
    "            avg_total_laid_off=('total_laid_off', 'mean'),\n",
    "            avg_percentage_laid_off=('percentage_laid_off', 'mean'),\n",
    "            avg_funds_raised=('funds_raised', 'mean')\n",
    "        )\n",
    "        .reset_index()\n",
    "    )\n",
    "    summary['avg_total_laid_off'] = summary['avg_total_laid_off'].round(2)\n",
    "    summary['avg_percentage_laid_off'] = summary['avg_percentage_laid_off'].round(2)\n",
    "    summary['avg_funds_raised'] = summary['avg_funds_raised'].round(2)\n",
    "\n",
    "    # Generate textual summary per cluster\n",
    "    text_summaries = []\n",
    "    for _, row in summary.iterrows():\n",
    "        cluster_text = (f\"Cluster {row['cluster']}: On average, companies laid off {row['avg_total_laid_off']} employees \"\n",
    "                        f\"({row['avg_percentage_laid_off']}% of workforce) with average funds raised of ${row['avg_funds_raised']}M.\")\n",
    "        text_summaries.append(cluster_text)\n",
    "    text_summary_str = html.Ul([html.Li(txt) for txt in text_summaries])\n",
    "\n",
    "    # Prepare download data\n",
    "    download_data = None\n",
    "    if n_clicks > 0:\n",
    "        download_data = dcc.send_data_frame(summary.to_csv, \"cluster_summary.csv\", index=False)\n",
    "\n",
    "    return fig, summary.to_dict('records'), text_summary_str, download_data\n",
    "\n",
    "# -------------------------------\n",
    "# 6. Run app\n",
    "# -------------------------------\n",
    "if __name__ == '__main__':\n",
    "    app.run(debug=True)"
   ]
  },
  {
   "cell_type": "code",
   "execution_count": 116,
   "id": "0e00d674",
   "metadata": {},
   "outputs": [
    {
     "data": {
      "text/html": [
       "\n",
       "        <iframe\n",
       "            width=\"100%\"\n",
       "            height=\"650\"\n",
       "            src=\"http://127.0.0.1:8050/\"\n",
       "            frameborder=\"0\"\n",
       "            allowfullscreen\n",
       "            \n",
       "        ></iframe>\n",
       "        "
      ],
      "text/plain": [
       "<IPython.lib.display.IFrame at 0x1fcd1d7c130>"
      ]
     },
     "metadata": {},
     "output_type": "display_data"
    }
   ],
   "source": [
    "# ============================================================\n",
    "# Industry-Normalized Anomaly Detection & Clustering of Layoffs\n",
    "# ============================================================\n",
    "\n",
    "import warnings\n",
    "warnings.filterwarnings('ignore')\n",
    "\n",
    "import pandas as pd\n",
    "import numpy as np\n",
    "from sklearn.preprocessing import StandardScaler\n",
    "from sklearn.ensemble import IsolationForest\n",
    "from sklearn.decomposition import PCA\n",
    "from sklearn.cluster import KMeans\n",
    "import dash\n",
    "from dash import dcc, html, dash_table\n",
    "from dash.dependencies import Input, Output\n",
    "import plotly.express as px\n",
    "\n",
    "# -------------------------------\n",
    "# 1. Data Preparation\n",
    "# -------------------------------\n",
    "layoffs_anomaly = layoffs.copy()\n",
    "layoffs_anomaly = layoffs_anomaly.dropna(subset=[\n",
    "    'company','total_laid_off','percentage_laid_off','funds_raised','industry'\n",
    "])\n",
    "layoffs_anomaly = layoffs_anomaly[['company','total_laid_off','percentage_laid_off','funds_raised','industry']]\n",
    "\n",
    "# Standardize within industry\n",
    "def industry_standardize(df):\n",
    "    df_scaled = df.copy()\n",
    "    df_scaled[['total_laid_off','percentage_laid_off','funds_raised']] = \\\n",
    "        df_scaled.groupby('industry')[['total_laid_off','percentage_laid_off','funds_raised']].transform(\n",
    "            lambda x: ((x - x.mean()) / x.std(ddof=0)).fillna(0)\n",
    "        )\n",
    "    return df_scaled\n",
    "\n",
    "layoffs_scaled = industry_standardize(layoffs_anomaly)\n",
    "\n",
    "# One-hot encode industry\n",
    "layoffs_encoded = pd.get_dummies(layoffs_scaled.drop('company', axis=1), columns=['industry'])\n",
    "\n",
    "# -------------------------------\n",
    "# 2. Anomaly Detection\n",
    "# -------------------------------\n",
    "iso_forest = IsolationForest(contamination=0.05, random_state=42)\n",
    "layoffs_encoded['anomaly'] = iso_forest.fit_predict(layoffs_encoded)\n",
    "layoffs_anomaly['anomaly'] = layoffs_encoded['anomaly']\n",
    "layoffs_anomaly['anomaly_label'] = layoffs_anomaly['anomaly'].map({1:'Normal', -1:'Anomaly'})\n",
    "\n",
    "# -------------------------------\n",
    "# 3. PCA for 2D Visualization\n",
    "# -------------------------------\n",
    "pca = PCA(n_components=2)\n",
    "components = pca.fit_transform(layoffs_encoded.drop('anomaly', axis=1))\n",
    "pca_df = pd.DataFrame(components, columns=['PC1','PC2'])\n",
    "pca_df = pd.concat([pca_df, layoffs_anomaly[['company','total_laid_off','percentage_laid_off','funds_raised','industry','anomaly_label']]], axis=1)\n",
    "\n",
    "# -------------------------------\n",
    "# 4. Cluster anomalies\n",
    "# -------------------------------\n",
    "def cluster_anomalies(df):\n",
    "    anomaly_data = df[df['anomaly_label']=='Anomaly'].copy()\n",
    "    if anomaly_data.empty:\n",
    "        df['cluster'] = np.nan\n",
    "        return df\n",
    "    n_clusters = min(5, len(anomaly_data))\n",
    "    kmeans = KMeans(n_clusters=n_clusters, random_state=42)\n",
    "    anomaly_data['cluster'] = kmeans.fit_predict(anomaly_data[['PC1','PC2']])\n",
    "    df = df.merge(anomaly_data[['company','cluster']], on='company', how='left')\n",
    "    return df\n",
    "\n",
    "pca_df = cluster_anomalies(pca_df)\n",
    "pca_df['cluster_plot'] = pca_df['cluster'].fillna(-1).astype(int)\n",
    "\n",
    "# -------------------------------\n",
    "# 5. Dash App\n",
    "# -------------------------------\n",
    "app = dash.Dash(__name__)\n",
    "\n",
    "app.layout = html.Div([\n",
    "    html.H1(\"Layoff Anomaly Detection by Industry\"),\n",
    "    \n",
    "    html.Label(\"Select Industry:\"),\n",
    "    dcc.Dropdown(\n",
    "        id='industry-dropdown',\n",
    "        options=[{'label': i, 'value': i} for i in sorted(pca_df['industry'].unique())] + [{'label':'All','value':'All'}],\n",
    "        value='All'\n",
    "    ),\n",
    "    \n",
    "    dcc.Graph(id='pca-graph'),\n",
    "    \n",
    "    html.H3(\"Summary of Groups\"),\n",
    "    html.Div(id='group-summary-text'),\n",
    "    \n",
    "    dash_table.DataTable(\n",
    "        id='group-summary-table',\n",
    "        columns=[\n",
    "            {\"name\": \"Company\", \"id\": \"company\"},\n",
    "            {\"name\": \"Industry\", \"id\": \"industry\"},\n",
    "            {\"name\": \"Total Laid Off\", \"id\": \"total_laid_off\"},\n",
    "            {\"name\": \"% Laid Off\", \"id\": \"percentage_laid_off\"},\n",
    "            {\"name\": \"Funds Raised\", \"id\": \"funds_raised\"},\n",
    "            {\"name\": \"Anomaly Label\", \"id\": \"anomaly_label\"},\n",
    "            {\"name\": \"Cluster\", \"id\": \"cluster\"}\n",
    "        ],\n",
    "        page_size=10,\n",
    "        style_table={'overflowX': 'auto'},\n",
    "        style_cell={'textAlign': 'center'},\n",
    "        style_header={'fontWeight': 'bold'}\n",
    "    ),\n",
    "    \n",
    "    html.Br(),\n",
    "    html.Button(\"Download Summary CSV\", id=\"btn-download\", n_clicks=0),\n",
    "    dcc.Download(id=\"download-summary\")\n",
    "])\n",
    "\n",
    "# -------------------------------\n",
    "# 6. Callbacks\n",
    "# -------------------------------\n",
    "@app.callback(\n",
    "    [Output('pca-graph', 'figure'),\n",
    "     Output('group-summary-text', 'children'),\n",
    "     Output('group-summary-table', 'data'),\n",
    "     Output('download-summary', 'data')],\n",
    "    [Input('industry-dropdown','value'),\n",
    "     Input('btn-download','n_clicks')]\n",
    ")\n",
    "def update_dashboard(selected_industry, n_clicks):\n",
    "    df_plot = pca_df.copy()\n",
    "    if selected_industry != 'All':\n",
    "        df_plot = df_plot[df_plot['industry'] == selected_industry]\n",
    "    \n",
    "    # PCA Scatter plot with hover info\n",
    "    df_plot['marker_size'] = df_plot['anomaly_label'].map({'Normal':10, 'Anomaly':15})\n",
    "    fig = px.scatter(\n",
    "        df_plot,\n",
    "        x='PC1', y='PC2',\n",
    "        color='anomaly_label',\n",
    "        symbol='cluster_plot',\n",
    "        size='marker_size',\n",
    "        opacity=0.7,\n",
    "        hover_data={\n",
    "            'company': True,\n",
    "            'industry': True,\n",
    "            'total_laid_off': True,\n",
    "            'percentage_laid_off': True,\n",
    "            'funds_raised': True,\n",
    "            'cluster_plot': True,\n",
    "            'PC1': False,\n",
    "            'PC2': False,\n",
    "            'marker_size': False\n",
    "        },\n",
    "        title=f\"PCA of Layoffs: {selected_industry}\"\n",
    "    )\n",
    "    fig.update_traces(marker=dict(line=dict(width=1, color='DarkSlateGrey')))\n",
    "\n",
    "    # -------------------------------\n",
    "    # Textual Summary of Normal and Anomaly Groups (with company names)\n",
    "    # -------------------------------\n",
    "    summary_text = []\n",
    "    \n",
    "    # Normal group\n",
    "    normal_df = df_plot[df_plot['anomaly_label']=='Normal']\n",
    "    if not normal_df.empty:\n",
    "        summary_text.append(\n",
    "            html.Li(f\"Normal Group: {len(normal_df)} companies, \"\n",
    "                    f\"Avg layoffs: {normal_df['total_laid_off'].mean():.1f}, \"\n",
    "                    f\"Avg % laid off: {normal_df['percentage_laid_off'].mean():.1f}%, \"\n",
    "                    f\"Avg funds raised: {normal_df['funds_raised'].mean():.2f}M. \"\n",
    "                    f\"Companies: {', '.join(normal_df['company'].tolist())}\")\n",
    "        )\n",
    "\n",
    "    # Anomaly clusters\n",
    "    anomaly_df = df_plot[df_plot['anomaly_label']=='Anomaly']\n",
    "    if not anomaly_df.empty:\n",
    "        for cl in sorted(anomaly_df['cluster_plot'].unique()):\n",
    "            cl_df = anomaly_df[anomaly_df['cluster_plot']==cl]\n",
    "            company_list = \", \".join(cl_df['company'].tolist())\n",
    "            summary_text.append(\n",
    "                html.Li(f\"Anomaly Cluster {cl}: {len(cl_df)} companies, \"\n",
    "                        f\"Avg layoffs: {cl_df['total_laid_off'].mean():.1f}, \"\n",
    "                        f\"Avg % laid off: {cl_df['percentage_laid_off'].mean():.1f}%, \"\n",
    "                        f\"Avg funds raised: {cl_df['funds_raised'].mean():.2f}M. \"\n",
    "                        f\"Companies: {company_list}\")\n",
    "            )\n",
    "    \n",
    "    summary_text_component = html.Ul(summary_text)\n",
    "    \n",
    "    # -------------------------------\n",
    "    # Table\n",
    "    # -------------------------------\n",
    "    table_data = df_plot[['company','industry','total_laid_off','percentage_laid_off','funds_raised','anomaly_label','cluster_plot']].rename(columns={'cluster_plot':'cluster'}).to_dict('records')\n",
    "    \n",
    "    # -------------------------------\n",
    "    # CSV Download\n",
    "    # -------------------------------\n",
    "    download_data = None\n",
    "    if n_clicks > 0:\n",
    "        download_data = dcc.send_data_frame(pd.DataFrame(table_data).to_csv, \"layoff_summary.csv\", index=False)\n",
    "    \n",
    "    return fig, summary_text_component, table_data, download_data\n",
    "\n",
    "# -------------------------------\n",
    "# 7. Run App\n",
    "# -------------------------------\n",
    "if __name__ == '__main__':\n",
    "    app.run(debug=True)\n"
   ]
  },
  {
   "cell_type": "code",
   "execution_count": null,
   "id": "c519ff00",
   "metadata": {},
   "outputs": [
    {
     "data": {
      "text/html": [
       "\n",
       "        <iframe\n",
       "            width=\"100%\"\n",
       "            height=\"650\"\n",
       "            src=\"http://127.0.0.1:8050/\"\n",
       "            frameborder=\"0\"\n",
       "            allowfullscreen\n",
       "            \n",
       "        ></iframe>\n",
       "        "
      ],
      "text/plain": [
       "<IPython.lib.display.IFrame at 0x1fcee834750>"
      ]
     },
     "metadata": {},
     "output_type": "display_data"
    },
    {
     "name": "stderr",
     "output_type": "stream",
     "text": [
      "Error on request:\n",
      "Traceback (most recent call last):\n",
      "  File \"C:\\Users\\hrnbe\\AppData\\Roaming\\Python\\Python313\\site-packages\\werkzeug\\serving.py\", line 370, in run_wsgi\n",
      "    execute(self.server.app)\n",
      "    ~~~~~~~^^^^^^^^^^^^^^^^^\n",
      "  File \"C:\\Users\\hrnbe\\AppData\\Roaming\\Python\\Python313\\site-packages\\werkzeug\\serving.py\", line 355, in execute\n",
      "    data = self.rfile.read(10_000_000)\n",
      "MemoryError\n"
     ]
    }
   ],
   "source": [
    "# ============================================================\n",
    "# Layoffs Survival Analysis: Kaplan-Meier & Cox Proportional Hazards\n",
    "# ============================================================\n",
    "\n",
    "import warnings\n",
    "warnings.filterwarnings('ignore')\n",
    "\n",
    "import pandas as pd\n",
    "import numpy as np\n",
    "from lifelines import KaplanMeierFitter, CoxPHFitter\n",
    "import plotly.graph_objects as go\n",
    "from dash import Dash, dcc, html, Input, Output\n",
    "\n",
    "# -------------------------------\n",
    "# 1. Data Preparation\n",
    "# -------------------------------\n",
    "layoffs_survival = layoffs.copy()\n",
    "\n",
    "# Drop rows with missing critical info\n",
    "layoffs_survival = layoffs_survival.dropna(subset=['date', 'total_laid_off', 'funds_raised'])\n",
    "\n",
    "# Event: whether a layoff occurred\n",
    "layoffs_survival['event'] = (layoffs_survival['total_laid_off'] > 0).astype(int)\n",
    "\n",
    "# Time to event (days since first recorded layoff)\n",
    "layoffs_survival['time_to_event'] = (layoffs_survival['date'] - layoffs_survival['date'].min()).dt.days\n",
    "layoffs_survival = layoffs_survival[layoffs_survival['time_to_event'] >= 0]\n",
    "\n",
    "# Log-transform funding\n",
    "layoffs_survival['funds_raised'] = np.log1p(layoffs_survival['funds_raised'])\n",
    "\n",
    "# Indicator for post-2022 crash\n",
    "layoffs_survival['post_2022_crash'] = (layoffs_survival['date'] >= pd.to_datetime('2022-01-01')).astype(int)\n",
    "\n",
    "# Categorize funding\n",
    "funds_quantiles = layoffs_survival['funds_raised'].quantile([0.33, 0.66])\n",
    "layoffs_survival['funds_category'] = pd.cut(\n",
    "    layoffs_survival['funds_raised'],\n",
    "    bins=[-np.inf, funds_quantiles[0.33], funds_quantiles[0.66], np.inf],\n",
    "    labels=['Low', 'Medium', 'High']\n",
    ")\n",
    "\n",
    "# -------------------------------\n",
    "# 2. Dash App Layout\n",
    "# -------------------------------\n",
    "app = Dash(__name__)\n",
    "\n",
    "app.layout = html.Div([\n",
    "    html.H1(\"Layoffs Survival Analysis\", style={'textAlign': 'center'}),\n",
    "\n",
    "    html.Div([\n",
    "        html.Label(\"Filter Type:\"),\n",
    "        dcc.Dropdown(\n",
    "            id=\"filter-type\",\n",
    "            options=[\n",
    "                {\"label\": \"All Data\", \"value\": \"all\"},\n",
    "                {\"label\": \"By Country\", \"value\": \"country\"},\n",
    "                {\"label\": \"By Stage\", \"value\": \"stage\"}\n",
    "            ],\n",
    "            value=\"all\",\n",
    "            clearable=False\n",
    "        )\n",
    "    ], style={\"margin\": \"20px\"}),\n",
    "\n",
    "    html.Div([\n",
    "        html.Label(\"Select Value (if applicable):\"),\n",
    "        dcc.Dropdown(id=\"filter-value\", clearable=True)\n",
    "    ], style={\"margin\": \"20px\"}),\n",
    "\n",
    "    html.Div([\n",
    "        html.H2(\"Kaplan-Meier Survival Curve\"),\n",
    "        dcc.Graph(id=\"km-plot\"),\n",
    "        html.Div(id=\"km-summary\", style={\"margin\": \"20px\", \"fontStyle\": \"italic\"})\n",
    "    ]),\n",
    "\n",
    "    html.Div([\n",
    "        html.H2(\"Cox Proportional Hazards Model\"),\n",
    "        dcc.Graph(id=\"cox-plot\"),\n",
    "        html.Div(id=\"cox-summary\", style={\"margin\": \"20px\", \"fontStyle\": \"italic\"})\n",
    "    ])\n",
    "])\n",
    "\n",
    "# -------------------------------\n",
    "# 3. Callbacks\n",
    "# -------------------------------\n",
    "\n",
    "# Update second dropdown options dynamically\n",
    "@app.callback(\n",
    "    Output(\"filter-value\", \"options\"),\n",
    "    Input(\"filter-type\", \"value\")\n",
    ")\n",
    "def update_filter_values(filter_choice):\n",
    "    if filter_choice == \"country\":\n",
    "        return [{\"label\": c, \"value\": c} for c in sorted(layoffs_survival['country'].dropna().unique())]\n",
    "    elif filter_choice == \"stage\":\n",
    "        return [{\"label\": s, \"value\": s} for s in sorted(layoffs_survival['stage'].dropna().unique())]\n",
    "    return []\n",
    "\n",
    "# Update plots + summaries\n",
    "@app.callback(\n",
    "    [Output(\"km-plot\", \"figure\"),\n",
    "     Output(\"km-summary\", \"children\"),\n",
    "     Output(\"cox-plot\", \"figure\"),\n",
    "     Output(\"cox-summary\", \"children\")],\n",
    "    [Input(\"filter-type\", \"value\"),\n",
    "     Input(\"filter-value\", \"value\")]\n",
    ")\n",
    "def update_plots(filter_choice, filter_value):\n",
    "    data = layoffs_survival.copy()\n",
    "\n",
    "    # Apply filter if applicable\n",
    "    if filter_choice == \"country\" and filter_value:\n",
    "        data = data[data['country'] == filter_value]\n",
    "    elif filter_choice == \"stage\" and filter_value:\n",
    "        data = data[data['stage'] == filter_value]\n",
    "\n",
    "    # --------------------\n",
    "    # Kaplan-Meier\n",
    "    # --------------------\n",
    "    kmf = KaplanMeierFitter()\n",
    "    fig_km = go.Figure()\n",
    "    km_texts = []\n",
    "\n",
    "    medians = {}\n",
    "    for fund_level in data['funds_category'].dropna().unique():\n",
    "        subset = data[data['funds_category'] == fund_level]\n",
    "        if len(subset) > 0:\n",
    "            kmf.fit(subset['time_to_event'], subset['event'], label=f\"Funds {fund_level}\")\n",
    "            temp_df = kmf.survival_function_.reset_index()\n",
    "            fig_km.add_trace(go.Scatter(\n",
    "                x=temp_df['timeline'],\n",
    "                y=temp_df[kmf._label],\n",
    "                mode='lines',\n",
    "                name=f\"Funds {fund_level}\"\n",
    "            ))\n",
    "            # Median survival\n",
    "            med_surv = kmf.median_survival_time_\n",
    "            medians[fund_level] = med_surv\n",
    "            km_texts.append(f\"Funding {fund_level}: Median survival ≈ {med_surv:.0f} days\")\n",
    "\n",
    "    fig_km.update_layout(\n",
    "        title=\"Kaplan-Meier Survival Curve\",\n",
    "        xaxis_title=\"Days Since First Recorded Layoff\",\n",
    "        yaxis_title=\"Survival Probability\",\n",
    "        height=500, width=700\n",
    "    )\n",
    "\n",
    "    # Sort medians to show ranking\n",
    "    if medians:\n",
    "        ranking = sorted(medians.items(), key=lambda x: x[1], reverse=True)\n",
    "        ranking_str = \" → \".join([f\"{k} ({v:.0f}d)\" for k, v in ranking])\n",
    "        km_texts.append(f\"Ranking by median survival: {ranking_str}\")\n",
    "    km_summary_text = html.Ul([html.Li(txt) for txt in km_texts]) if km_texts else \"Not enough data for KM summary.\"\n",
    "\n",
    "    # --------------------\n",
    "    # Cox Proportional Hazards\n",
    "    # --------------------\n",
    "    cox_vars = ['time_to_event', 'event', 'funds_raised', 'post_2022_crash', 'funds_category']\n",
    "    if filter_choice in [\"country\", \"stage\"]:\n",
    "        cox_vars.append(filter_choice)\n",
    "\n",
    "    df_cox = data[cox_vars].copy()\n",
    "    df_cox = pd.get_dummies(df_cox, drop_first=True)\n",
    "    df_cox = df_cox.dropna()\n",
    "\n",
    "    fig_cph = go.Figure()\n",
    "    cox_summary_text = \"Not enough data for Cox PH model.\"\n",
    "\n",
    "    if len(df_cox) > 10:  # Ensure enough samples\n",
    "        cph = CoxPHFitter(penalizer=0.1)\n",
    "        cph.fit(df_cox, duration_col='time_to_event', event_col='event')\n",
    "\n",
    "        cph_summary = cph.summary.reset_index()\n",
    "        cph_summary['exp(coef)'] = np.exp(cph_summary['coef'])\n",
    "        cph_summary['exp(coef) lower 95%'] = np.exp(cph_summary['coef lower 95%'])\n",
    "        cph_summary['exp(coef) upper 95%'] = np.exp(cph_summary['coef upper 95%'])\n",
    "\n",
    "        # Plot hazard ratios\n",
    "        fig_cph.add_trace(go.Bar(\n",
    "            x=cph_summary['covariate'],\n",
    "            y=cph_summary['exp(coef)'],\n",
    "            error_y=dict(\n",
    "                type='data',\n",
    "                symmetric=False,\n",
    "                array=cph_summary['exp(coef) upper 95%'] - cph_summary['exp(coef)'],\n",
    "                arrayminus=cph_summary['exp(coef)'] - cph_summary['exp(coef) lower 95%']\n",
    "            ),\n",
    "            name='Hazard Ratios'\n",
    "        ))\n",
    "\n",
    "        fig_cph.update_layout(\n",
    "            title=\"Cox Proportional Hazards Model Results\",\n",
    "            xaxis_title=\"Covariates\",\n",
    "            yaxis_title=\"Hazard Ratio\",\n",
    "            height=500, width=700\n",
    "        )\n",
    "\n",
    "        # Build textual interpretation\n",
    "        texts = []\n",
    "        for _, row in cph_summary.iterrows():\n",
    "            cov = row['covariate']\n",
    "            hr = row['exp(coef)']\n",
    "            pval = row['p']\n",
    "            if hr > 1:\n",
    "                effect = \"increases hazard (layoff risk)\"\n",
    "            else:\n",
    "                effect = \"decreases hazard (layoff risk)\"\n",
    "            sig = \" ⭐\" if pval < 0.05 else \"\"\n",
    "            texts.append(f\"{cov}: HR={hr:.2f}, p={pval:.3f}{sig} → {effect}\")\n",
    "        cox_summary_text = html.Ul([html.Li(t) for t in texts])\n",
    "\n",
    "    return fig_km, km_summary_text, fig_cph, cox_summary_text\n",
    "\n",
    "# -------------------------------\n",
    "# 4. Run App\n",
    "# -------------------------------\n",
    "if __name__ == \"__main__\":\n",
    "    app.run(debug=True)\n"
   ]
  }
 ],
 "metadata": {
  "kernelspec": {
   "display_name": "Python 3",
   "language": "python",
   "name": "python3"
  },
  "language_info": {
   "codemirror_mode": {
    "name": "ipython",
    "version": 3
   },
   "file_extension": ".py",
   "mimetype": "text/x-python",
   "name": "python",
   "nbconvert_exporter": "python",
   "pygments_lexer": "ipython3",
   "version": "3.13.3"
  }
 },
 "nbformat": 4,
 "nbformat_minor": 5
}
